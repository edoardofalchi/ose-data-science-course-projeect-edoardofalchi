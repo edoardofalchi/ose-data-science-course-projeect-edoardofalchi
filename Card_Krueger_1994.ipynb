{
 "cells": [
  {
   "cell_type": "markdown",
   "metadata": {},
   "source": [
    "--- \n",
    "Project for the course in Microeconometrics | Summer 2021, M.Sc. Economics, Bonn University | [Edoardo Falchi](https://github.com/edoardofalchi)\n",
    "\n",
    "# Replication of David Card & Alan Krueger  (1994) <a class=\"tocSkip\">   \n",
    "---"
   ]
  },
  {
   "cell_type": "markdown",
   "metadata": {},
   "source": [
    "This notebook contains my replication of the results from the following paper:\n",
    "\n",
    "> Card, David, and Alan Krueger. 1994. “Minimum Wages and Employment: A Case Study of the Fast-Food Industry in New Jersey and Pennsylvania.” American Economic Review 84: 772–93.\n",
    "\n",
    "##### Downloading and viewing this notebook:\n",
    "\n",
    "* The best way to view this notebook is by downloading it and the repository it is located in from [GitHub](https://github.com/edoardofalchi/ose-data-science-course-projeect-edoardofalchi). Other viewing options like _MyBinder_ or _NBViewer_ may have issues with displaying images or coloring of certain parts (missing images can be viewed in the folder [files](https://github.com/edoardofalchi/ose-data-science-course-projeect-edoardofalchi/tree/master/files) on GitHub).\n",
    "\n",
    "\n",
    "* The original paper can be accessed  [here](https://www.nber.org/papers/w4509), while the [dataset](https://davidcard.berkeley.edu/data_sets.html) is freely accessible from the author's website."
   ]
  },
  {
   "cell_type": "markdown",
   "metadata": {
    "toc": true
   },
   "source": [
    "<h1>Table of Contents<span class=\"tocSkip\"></span></h1>\n",
    "<div class=\"toc\"><ul class=\"toc-item\"><li><span><a href=\"#1.-Introduction\" data-toc-modified-id=\"1.-Introduction-1\">1. Introduction</a></span></li><li><span><a href=\"#2.-Theoretical-Background\" data-toc-modified-id=\"2.-Theoretical-Background-2\">2. Theoretical Background</a></span></li><li><span><a href=\"#3.-Identification\" data-toc-modified-id=\"3.-Identification-3\">3. Identification</a></span></li><li><span><a href=\"#4.-Empirical-Strategy\" data-toc-modified-id=\"4.-Empirical-Strategy-4\">4. Empirical Strategy</a></span></li><li><span><a href=\"#5.-Replication-of-Lindo-et-al.-(2010)\" data-toc-modified-id=\"5.-Replication-of-Lindo-et-al.-(2010)-5\">5. Replication of Lindo et al. (2010)</a></span><ul class=\"toc-item\"><li><span><a href=\"#5.1.-Data-&amp;-Descriptive-Statistics\" data-toc-modified-id=\"5.1.-Data-&amp;-Descriptive-Statistics-5.1\">5.1. Data &amp; Descriptive Statistics</a></span></li><li><span><a href=\"#5.2.-Results\" data-toc-modified-id=\"5.2.-Results-5.2\">5.2. Results</a></span><ul class=\"toc-item\"><li><span><a href=\"#5.2.1.-Tests-of-the-Validity-of-the-RD-Approach\" data-toc-modified-id=\"5.2.1.-Tests-of-the-Validity-of-the-RD-Approach-5.2.1\">5.2.1. Tests of the Validity of the RD Approach</a></span></li><li><span><a href=\"#i.--Extension:-Visual-Validity-Check\" data-toc-modified-id=\"i.--Extension:-Visual-Validity-Check-5.2.2\">i.  Extension: Visual Validity Check</a></span></li><li><span><a href=\"#ii.-Advanced-Validity-Check\" data-toc-modified-id=\"ii.-Advanced-Validity-Check-5.2.3\">ii. Advanced Validity Check</a></span></li><li><span><a href=\"#5.2.2.-First-Year-GPAs-and-Academic-Probation\" data-toc-modified-id=\"5.2.2.-First-Year-GPAs-and-Academic-Probation-5.2.4\">5.2.2. First Year GPAs and Academic Probation</a></span></li><li><span><a href=\"#5.2.3.-The-Immediate-Response-to-Academic-Probation\" data-toc-modified-id=\"5.2.3.-The-Immediate-Response-to-Academic-Probation-5.2.5\">5.2.3. The Immediate Response to Academic Probation</a></span></li><li><span><a href=\"#5.2.4.-The-Impact-onSubsequent-Performance\" data-toc-modified-id=\"5.2.4.-The-Impact-onSubsequent-Performance-5.2.6\">5.2.4. The Impact onSubsequent Performance</a></span></li><li><span><a href=\"#i.-Main-Results-for-Impact-on-GPA-&amp;-Probability-of-Placing-Above-Cutoff-in-the-Next-Term\" data-toc-modified-id=\"i.-Main-Results-for-Impact-on-GPA-&amp;-Probability-of-Placing-Above-Cutoff-in-the-Next-Term-5.2.7\">i. Main Results for Impact on GPA &amp; Probability of Placing Above Cutoff in the Next Term</a></span></li><li><span><a href=\"#ii.-Formal-Bound-Analysis-on-Subsequent-GPA-(partial-extension)\" data-toc-modified-id=\"ii.-Formal-Bound-Analysis-on-Subsequent-GPA-(partial-extension)-5.2.8\">ii. Formal Bound Analysis on Subsequent GPA (partial extension)</a></span></li><li><span><a href=\"#5.2.5.-The-Impacts-on-Graduation\" data-toc-modified-id=\"5.2.5.-The-Impacts-on-Graduation-5.2.9\">5.2.5. The Impacts on Graduation</a></span></li></ul></li></ul></li><li><span><a href=\"#6.-Extension:-Robustness-Checks\" data-toc-modified-id=\"6.-Extension:-Robustness-Checks-6\">6. Extension: Robustness Checks</a></span><ul class=\"toc-item\"><li><span><a href=\"#6.1.--A-Closer-Look-at-Students'-Subsequent-Performance.\" data-toc-modified-id=\"6.1.--A-Closer-Look-at-Students'-Subsequent-Performance.-6.1\">6.1.  A Closer Look at Students' Subsequent Performance.</a></span><ul class=\"toc-item\"><li><span><a href=\"#6.1.1.-Subsequent-Performance-and-Total-Credits-in-Year-2\" data-toc-modified-id=\"6.1.1.-Subsequent-Performance-and-Total-Credits-in-Year-2-6.1.1\">6.1.1. Subsequent Performance and Total Credits in Year 2</a></span></li><li><span><a href=\"#6.1.2.-Subsequent-Cumulative-Grade-Point-Average-(CGPA)\" data-toc-modified-id=\"6.1.2.-Subsequent-Cumulative-Grade-Point-Average-(CGPA)-6.1.2\">6.1.2. Subsequent Cumulative Grade Point Average (CGPA)</a></span></li></ul></li><li><span><a href=\"#6.2.-Bandwidth-Sensitivity\" data-toc-modified-id=\"6.2.-Bandwidth-Sensitivity-6.2\">6.2. Bandwidth Sensitivity</a></span></li></ul></li><li><span><a href=\"#7.-Conclusion\" data-toc-modified-id=\"7.-Conclusion-7\">7. Conclusion</a></span></li><li><span><a href=\"#8.-References\" data-toc-modified-id=\"8.-References-8\">8. References</a></span></li></ul></div>"
   ]
  },
  {
   "cell_type": "code",
   "execution_count": 262,
   "metadata": {},
   "outputs": [],
   "source": [
    "%matplotlib inline\n",
    "#!pip install scipy\n",
    "#!pip install plotly_express\n",
    "import plotly.express as px\n",
    "import scipy\n",
    "import numpy as np\n",
    "import pandas as pd\n",
    "from pandas_profiling import ProfileReport\n",
    "import pandas.io.formats.style\n",
    "import seaborn as sns\n",
    "import statsmodels as sm\n",
    "import statsmodels.formula.api as smf\n",
    "import statsmodels.api as sm_api\n",
    "import matplotlib as plt\n",
    "import matplotlib.pyplot as pltpy\n",
    "from IPython.display import HTML\n",
    "#import warnings\n",
    "#warnings.filterwarnings(\"ignore\")"
   ]
  },
  {
   "cell_type": "markdown",
   "metadata": {},
   "source": [
    "# 1. Introduction"
   ]
  },
  {
   "cell_type": "markdown",
   "metadata": {},
   "source": [
    "To have a general idea let's lay the groundwork by posing some questions:\n",
    "\n",
    "* **What is the causal link the paper is trying to reveal?**  \n",
    "The big question that makes this paper important: _\"How do employers in a low wage labor market respond to an increase in the minimum wage?\"_.\n",
    "\n",
    "    The narrow question this paper seeks to address: _\"How does a rise in minimum wage in New Jersey affect employment and wage level within fast food restaurants?\"_\n",
    "The authors compare employment levels in fast-food restaurants in New Jersey and Pennsylvania (its neighboring state without similar policy change) before and after the minimum wage shifts from 4.25\\$ to 5.05\\$ per hour in New Jersey.\n",
    "\n",
    "* **What is the key dependent variable?**  \n",
    "The outcome variable $Y_{i,s,t}$ is employment in restaurant $i$ in state $s$ (NJ or PA) and period $t$ (a month before or eight months after the minimum-wage increase).\n",
    "\n",
    "* **What is the key independent variable?**  \n",
    "The treatment dummy taking value 1 for stores in New Jersey during the treatment (i.e. after the implementation of the higher minimum wage) and value 0 otherwise.\n",
    "\n",
    "* **What is the data source?**  \n",
    "Researchers constructed a sample frame of fast-food restaurants in New Jersey and eastern Pennsylvania from the Burger King, KFC, Wendy's, and Roy Rogers chain. They collected a first and a second wave interview data via survey that was conducted by telephone and the survey included questions on employment, starting wages, prices, and other store characteristics. First wave of data was collected in between February 15 and March 4 1992(period before the new increased minimum wage) and the second wave is between November 5 and December 31 1992 (period after the new increased minimum wages).\n",
    "\n",
    "* **What is the identification strategy?**   \n",
    "The authors use a difference-in-difference approach as the identification strategy and estimate the impact at the micro level. They compare employment levels in fast-food restaurants in New Jersey and Pennsylvania (its neighboring state without similar policy change) before and after the minimum wage shift in New Jersey. The model dependent variables is the change in employment from wave 1 to wave 2 at a particular store and the explanatory variables is set of chracteristics of stores and dummy variable that equals 1 for stores in New Jersey. For another equation with the same dependent variable, the explanatory variables are; the set of charateristics of stores and an alaternative measure of the impcat of the minimum wage at a certain store.\n",
    "\n",
    "* **What are the assumptions / threats to this identification strategy?**   \n",
    "The difference-in-difference method faces a central threat known as the parallel assumption - that is, employment levels in New Jersey and Pennsylvania would follow the same time trend in the absence of the minimum wage policy change.   \n",
    "This identification strategy also assumes that fast-food restaurants in Pennsylvania are the best counterfactuals for those in New Jersey. Of the most importance, the extent of firm competitiveness in the food industry is assumed to be the same in the two states.|\n"
   ]
  },
  {
   "cell_type": "markdown",
   "metadata": {},
   "source": [
    "---\n",
    "# 1. Causal graph\n",
    "---"
   ]
  },
  {
   "cell_type": "markdown",
   "metadata": {},
   "source": [
    "![ERROR:Here should be causal graph 1](files/dagitty-model.jpg)\n",
    "_How do we come up with this causal graph?_\n",
    "\n",
    "The treated sample (NJ restaurants) at a certain point had a new policy applied to them (wage increase). Authors gathered data so that we can observe them both before and after the treatment went into effect. We argue that the policy treatment D might have had an effect on Y.  \n",
    "\n",
    "The simple difference between Y before treatment and Y after treatment for the Treated group will reflect two things: the effect of treatment on Y -the part we're interested in- and the way that Y may have changed over time for reasons unrelated to treatment -the part we're not interested in-. Time gives us a back-door path from Treatment to Y. We can get from Treatment to Y either through the Treatment → Y path -which we want- or the Treatment ← Time → Y path -which we don't-.\n",
    "\n",
    "But we can't close this back door by controlling for time if we only look at the treated group, since time perfectly predicts treatment (it's either Before and you're not treated, or after and you are) - so if we remove all parts of treatment explained by time, there's nothing left!\n",
    "\n",
    "What can we do? We can add a control group that never gets treated (Pennsylvania restaurants). This is going to let us control for time, but introduces the problem that now we have another back door, since the control and treatment groups may be different. In our scenario, a restaurant receives treatment only if it is in the treated State group (New Jersey) AND in the time period after treatment is applied. In addition to our time back door, we also have a back door from Treatment ← State → Y that we need to close, and we can do so by applying **Difference-in-Differences**.\n",
    "\n",
    "Looking at differences separately for treatment and control group is a way of controlling for State, closing the Treatment ← State → Y back-door. Then, we take our before/after difference for the treated group and subtract out the before/after difference for the control group . We just took out the before/after difference that was explained by time for the control group, in effect controlling for time and closing the Treatment ← Time → Y back-door."
   ]
  },
  {
   "cell_type": "markdown",
   "metadata": {},
   "source": [
    "---\n",
    "# 2. Dataset\n",
    "---"
   ]
  },
  {
   "cell_type": "markdown",
   "metadata": {},
   "source": [
    "The original dataset was in wide format, i.e. there are separate columns for variables of each wave of the survey. For analysis purpose I use a reorganized version of the original dataset based on data provided by [B.E.Hansen](https://www.ssc.wisc.edu/~bhansen/econometrics/). For a detailed description of the variables refer to the [codebook](https://github.com/edoardofalchi/ose-data-science-course-projeect-edoardofalchi/blob/master/material/codebook.pdf). In their study, Card & Krueger measure employment in full time equivalents (FTE) which they define as the number of full time employees plus the number of managers plus 0.5 times the number part-time employees. I added this variable to the dataset, and also I generated the share of full-time employees over FTE.\n",
    "\n",
    "Now each row is one observation, and therefore each store has two rows. There are 820 observations and 27 variables. The sample contains 410 restaurants (stores), 331 in New Jersey and 79 in Pennsylvania."
   ]
  },
  {
   "cell_type": "code",
   "execution_count": 76,
   "metadata": {
    "scrolled": true
   },
   "outputs": [],
   "source": [
    "def prepare_data():\n",
    "    '''\n",
    "    long-format  Card & Krueger (1994) dataset\n",
    "    '''\n",
    "    df = pd.read_stata('data/CK1994.dta')\n",
    "    df = df.sort_values(by=\"store\").set_index(\"store\")\n",
    "    df[\"chain\"] = df[\"chain\"].astype(\"category\")\n",
    "    df[\"meals\"] = df[\"meals\"].astype(\"category\")\n",
    "   # df.iloc[:,1:9] = df.iloc[:,1:9].astype('int')\n",
    "   # df[\"time\"] = df[\"time\"].astype('int')\n",
    "    df[\"FTE\"] = df.empft + df.nmgrs + 0.5 * df.emppt\n",
    "    df[\"pct_FTE\"] = (df.empft / df.FTE)* 100\n",
    "    df[\"nj_after\"] = df.state * df.time #generate interaction dummy for New Jersey after min wage increase \n",
    "    df[\"price_full_meal\"] = df.pricesoda + df.pricefry + df.priceentree\n",
    "    df=pd.concat([df.iloc[:,0], pd.get_dummies(df, columns=['chain'])],axis=1)#create dummies for each fast-food chain\n",
    "    df=df.rename(columns={'chain_1.0': 'bk','chain_2.0':'kfc','chain_3.0': 'roys','chain_4.0':'wendys'})\n",
    "    return df\n",
    "    \n"
   ]
  },
  {
   "cell_type": "code",
   "execution_count": 78,
   "metadata": {},
   "outputs": [
    {
     "data": {
      "text/html": [
       "<div>\n",
       "<style scoped>\n",
       "    .dataframe tbody tr th:only-of-type {\n",
       "        vertical-align: middle;\n",
       "    }\n",
       "\n",
       "    .dataframe tbody tr th {\n",
       "        vertical-align: top;\n",
       "    }\n",
       "\n",
       "    .dataframe thead th {\n",
       "        text-align: right;\n",
       "    }\n",
       "</style>\n",
       "<table border=\"1\" class=\"dataframe\">\n",
       "  <thead>\n",
       "    <tr style=\"text-align: right;\">\n",
       "      <th></th>\n",
       "      <th>chain</th>\n",
       "      <th>co_owned</th>\n",
       "      <th>state</th>\n",
       "      <th>southj</th>\n",
       "      <th>centralj</th>\n",
       "      <th>northj</th>\n",
       "      <th>pa1</th>\n",
       "      <th>pa2</th>\n",
       "      <th>shore</th>\n",
       "      <th>ncalls</th>\n",
       "      <th>...</th>\n",
       "      <th>nregisters11</th>\n",
       "      <th>time</th>\n",
       "      <th>FTE</th>\n",
       "      <th>pct_FTE</th>\n",
       "      <th>nj_after</th>\n",
       "      <th>price_full_meal</th>\n",
       "      <th>bk</th>\n",
       "      <th>kfc</th>\n",
       "      <th>roys</th>\n",
       "      <th>wendys</th>\n",
       "    </tr>\n",
       "    <tr>\n",
       "      <th>store</th>\n",
       "      <th></th>\n",
       "      <th></th>\n",
       "      <th></th>\n",
       "      <th></th>\n",
       "      <th></th>\n",
       "      <th></th>\n",
       "      <th></th>\n",
       "      <th></th>\n",
       "      <th></th>\n",
       "      <th></th>\n",
       "      <th></th>\n",
       "      <th></th>\n",
       "      <th></th>\n",
       "      <th></th>\n",
       "      <th></th>\n",
       "      <th></th>\n",
       "      <th></th>\n",
       "      <th></th>\n",
       "      <th></th>\n",
       "      <th></th>\n",
       "      <th></th>\n",
       "    </tr>\n",
       "  </thead>\n",
       "  <tbody>\n",
       "    <tr>\n",
       "      <th>1.0</th>\n",
       "      <td>1.0</td>\n",
       "      <td>0.0</td>\n",
       "      <td>1.0</td>\n",
       "      <td>0.0</td>\n",
       "      <td>1.0</td>\n",
       "      <td>0.0</td>\n",
       "      <td>0.0</td>\n",
       "      <td>0.0</td>\n",
       "      <td>0.0</td>\n",
       "      <td>0.0</td>\n",
       "      <td>...</td>\n",
       "      <td>3.0</td>\n",
       "      <td>0.0</td>\n",
       "      <td>35.0</td>\n",
       "      <td>45.714287</td>\n",
       "      <td>0.0</td>\n",
       "      <td>2.61</td>\n",
       "      <td>1</td>\n",
       "      <td>0</td>\n",
       "      <td>0</td>\n",
       "      <td>0</td>\n",
       "    </tr>\n",
       "    <tr>\n",
       "      <th>1.0</th>\n",
       "      <td>1.0</td>\n",
       "      <td>0.0</td>\n",
       "      <td>1.0</td>\n",
       "      <td>0.0</td>\n",
       "      <td>1.0</td>\n",
       "      <td>0.0</td>\n",
       "      <td>0.0</td>\n",
       "      <td>0.0</td>\n",
       "      <td>0.0</td>\n",
       "      <td>NaN</td>\n",
       "      <td>...</td>\n",
       "      <td>3.0</td>\n",
       "      <td>1.0</td>\n",
       "      <td>44.0</td>\n",
       "      <td>45.454548</td>\n",
       "      <td>1.0</td>\n",
       "      <td>2.74</td>\n",
       "      <td>1</td>\n",
       "      <td>0</td>\n",
       "      <td>0</td>\n",
       "      <td>0</td>\n",
       "    </tr>\n",
       "    <tr>\n",
       "      <th>2.0</th>\n",
       "      <td>1.0</td>\n",
       "      <td>0.0</td>\n",
       "      <td>1.0</td>\n",
       "      <td>0.0</td>\n",
       "      <td>1.0</td>\n",
       "      <td>0.0</td>\n",
       "      <td>0.0</td>\n",
       "      <td>0.0</td>\n",
       "      <td>0.0</td>\n",
       "      <td>0.0</td>\n",
       "      <td>...</td>\n",
       "      <td>2.0</td>\n",
       "      <td>0.0</td>\n",
       "      <td>16.0</td>\n",
       "      <td>62.500000</td>\n",
       "      <td>0.0</td>\n",
       "      <td>2.93</td>\n",
       "      <td>1</td>\n",
       "      <td>0</td>\n",
       "      <td>0</td>\n",
       "      <td>0</td>\n",
       "    </tr>\n",
       "    <tr>\n",
       "      <th>2.0</th>\n",
       "      <td>1.0</td>\n",
       "      <td>0.0</td>\n",
       "      <td>1.0</td>\n",
       "      <td>0.0</td>\n",
       "      <td>1.0</td>\n",
       "      <td>0.0</td>\n",
       "      <td>0.0</td>\n",
       "      <td>0.0</td>\n",
       "      <td>0.0</td>\n",
       "      <td>NaN</td>\n",
       "      <td>...</td>\n",
       "      <td>2.0</td>\n",
       "      <td>1.0</td>\n",
       "      <td>15.5</td>\n",
       "      <td>48.387096</td>\n",
       "      <td>1.0</td>\n",
       "      <td>3.00</td>\n",
       "      <td>1</td>\n",
       "      <td>0</td>\n",
       "      <td>0</td>\n",
       "      <td>0</td>\n",
       "    </tr>\n",
       "    <tr>\n",
       "      <th>3.0</th>\n",
       "      <td>2.0</td>\n",
       "      <td>0.0</td>\n",
       "      <td>1.0</td>\n",
       "      <td>0.0</td>\n",
       "      <td>1.0</td>\n",
       "      <td>0.0</td>\n",
       "      <td>0.0</td>\n",
       "      <td>0.0</td>\n",
       "      <td>0.0</td>\n",
       "      <td>3.0</td>\n",
       "      <td>...</td>\n",
       "      <td>3.0</td>\n",
       "      <td>0.0</td>\n",
       "      <td>15.5</td>\n",
       "      <td>38.709675</td>\n",
       "      <td>0.0</td>\n",
       "      <td>5.10</td>\n",
       "      <td>0</td>\n",
       "      <td>1</td>\n",
       "      <td>0</td>\n",
       "      <td>0</td>\n",
       "    </tr>\n",
       "  </tbody>\n",
       "</table>\n",
       "<p>5 rows × 33 columns</p>\n",
       "</div>"
      ],
      "text/plain": [
       "      chain  co_owned  state  southj  centralj  northj  pa1  pa2  shore  \\\n",
       "store                                                                     \n",
       "1.0     1.0       0.0    1.0     0.0       1.0     0.0  0.0  0.0    0.0   \n",
       "1.0     1.0       0.0    1.0     0.0       1.0     0.0  0.0  0.0    0.0   \n",
       "2.0     1.0       0.0    1.0     0.0       1.0     0.0  0.0  0.0    0.0   \n",
       "2.0     1.0       0.0    1.0     0.0       1.0     0.0  0.0  0.0    0.0   \n",
       "3.0     2.0       0.0    1.0     0.0       1.0     0.0  0.0  0.0    0.0   \n",
       "\n",
       "       ncalls  ...  nregisters11  time   FTE    pct_FTE  nj_after  \\\n",
       "store          ...                                                  \n",
       "1.0       0.0  ...           3.0   0.0  35.0  45.714287       0.0   \n",
       "1.0       NaN  ...           3.0   1.0  44.0  45.454548       1.0   \n",
       "2.0       0.0  ...           2.0   0.0  16.0  62.500000       0.0   \n",
       "2.0       NaN  ...           2.0   1.0  15.5  48.387096       1.0   \n",
       "3.0       3.0  ...           3.0   0.0  15.5  38.709675       0.0   \n",
       "\n",
       "       price_full_meal bk  kfc  roys  wendys  \n",
       "store                                         \n",
       "1.0               2.61  1    0     0       0  \n",
       "1.0               2.74  1    0     0       0  \n",
       "2.0               2.93  1    0     0       0  \n",
       "2.0               3.00  1    0     0       0  \n",
       "3.0               5.10  0    1     0       0  \n",
       "\n",
       "[5 rows x 33 columns]"
      ]
     },
     "execution_count": 78,
     "metadata": {},
     "output_type": "execute_result"
    }
   ],
   "source": [
    "df = prepare_data()\n",
    "df.head()"
   ]
  },
  {
   "cell_type": "code",
   "execution_count": 69,
   "metadata": {},
   "outputs": [
    {
     "data": {
      "text/plain": [
       "chain              category\n",
       "co_owned            float32\n",
       "state               float32\n",
       "southj              float32\n",
       "centralj            float32\n",
       "northj              float32\n",
       "pa1                 float32\n",
       "pa2                 float32\n",
       "shore               float32\n",
       "ncalls              float32\n",
       "empft               float32\n",
       "emppt               float32\n",
       "nmgrs               float32\n",
       "wage_st             float32\n",
       "inctime             float32\n",
       "firstinc            float32\n",
       "meals              category\n",
       "open                float32\n",
       "hoursopen           float32\n",
       "pricesoda           float32\n",
       "pricefry            float32\n",
       "priceentree         float32\n",
       "nregisters          float32\n",
       "nregisters11        float32\n",
       "time                float32\n",
       "FTE                 float32\n",
       "pct_FTE             float32\n",
       "nj_after            float32\n",
       "price_full_meal     float32\n",
       "bk                    uint8\n",
       "kfc                   uint8\n",
       "roys                  uint8\n",
       "wendys                uint8\n",
       "dtype: object"
      ]
     },
     "execution_count": 69,
     "metadata": {},
     "output_type": "execute_result"
    }
   ],
   "source": [
    "df.dtypes"
   ]
  },
  {
   "cell_type": "code",
   "execution_count": 67,
   "metadata": {},
   "outputs": [
    {
     "data": {
      "application/vnd.plotly.v1+json": {
       "config": {
        "plotlyServerURL": "https://plot.ly"
       },
       "data": [
        {
         "coloraxis": "coloraxis",
         "geo": "geo",
         "hovertemplate": "locations=%{location}<br>FTE pre-intervention=%{z}<extra></extra>",
         "locationmode": "USA-states",
         "locations": [
          "NJ",
          "PA"
         ],
         "name": "",
         "type": "choropleth",
         "z": [
          23.33116912841797,
          20.439407348632812
         ]
        }
       ],
       "layout": {
        "coloraxis": {
         "colorbar": {
          "title": {
           "text": "FTE pre-intervention"
          }
         },
         "colorscale": [
          [
           0,
           "#0d0887"
          ],
          [
           0.1111111111111111,
           "#46039f"
          ],
          [
           0.2222222222222222,
           "#7201a8"
          ],
          [
           0.3333333333333333,
           "#9c179e"
          ],
          [
           0.4444444444444444,
           "#bd3786"
          ],
          [
           0.5555555555555556,
           "#d8576b"
          ],
          [
           0.6666666666666666,
           "#ed7953"
          ],
          [
           0.7777777777777778,
           "#fb9f3a"
          ],
          [
           0.8888888888888888,
           "#fdca26"
          ],
          [
           1,
           "#f0f921"
          ]
         ]
        },
        "geo": {
         "center": {},
         "domain": {
          "x": [
           0,
           1
          ],
          "y": [
           0,
           1
          ]
         },
         "scope": "usa"
        },
        "legend": {
         "tracegroupgap": 0
        },
        "margin": {
         "t": 60
        },
        "template": {
         "data": {
          "bar": [
           {
            "error_x": {
             "color": "#2a3f5f"
            },
            "error_y": {
             "color": "#2a3f5f"
            },
            "marker": {
             "line": {
              "color": "#E5ECF6",
              "width": 0.5
             }
            },
            "type": "bar"
           }
          ],
          "barpolar": [
           {
            "marker": {
             "line": {
              "color": "#E5ECF6",
              "width": 0.5
             }
            },
            "type": "barpolar"
           }
          ],
          "carpet": [
           {
            "aaxis": {
             "endlinecolor": "#2a3f5f",
             "gridcolor": "white",
             "linecolor": "white",
             "minorgridcolor": "white",
             "startlinecolor": "#2a3f5f"
            },
            "baxis": {
             "endlinecolor": "#2a3f5f",
             "gridcolor": "white",
             "linecolor": "white",
             "minorgridcolor": "white",
             "startlinecolor": "#2a3f5f"
            },
            "type": "carpet"
           }
          ],
          "choropleth": [
           {
            "colorbar": {
             "outlinewidth": 0,
             "ticks": ""
            },
            "type": "choropleth"
           }
          ],
          "contour": [
           {
            "colorbar": {
             "outlinewidth": 0,
             "ticks": ""
            },
            "colorscale": [
             [
              0,
              "#0d0887"
             ],
             [
              0.1111111111111111,
              "#46039f"
             ],
             [
              0.2222222222222222,
              "#7201a8"
             ],
             [
              0.3333333333333333,
              "#9c179e"
             ],
             [
              0.4444444444444444,
              "#bd3786"
             ],
             [
              0.5555555555555556,
              "#d8576b"
             ],
             [
              0.6666666666666666,
              "#ed7953"
             ],
             [
              0.7777777777777778,
              "#fb9f3a"
             ],
             [
              0.8888888888888888,
              "#fdca26"
             ],
             [
              1,
              "#f0f921"
             ]
            ],
            "type": "contour"
           }
          ],
          "contourcarpet": [
           {
            "colorbar": {
             "outlinewidth": 0,
             "ticks": ""
            },
            "type": "contourcarpet"
           }
          ],
          "heatmap": [
           {
            "colorbar": {
             "outlinewidth": 0,
             "ticks": ""
            },
            "colorscale": [
             [
              0,
              "#0d0887"
             ],
             [
              0.1111111111111111,
              "#46039f"
             ],
             [
              0.2222222222222222,
              "#7201a8"
             ],
             [
              0.3333333333333333,
              "#9c179e"
             ],
             [
              0.4444444444444444,
              "#bd3786"
             ],
             [
              0.5555555555555556,
              "#d8576b"
             ],
             [
              0.6666666666666666,
              "#ed7953"
             ],
             [
              0.7777777777777778,
              "#fb9f3a"
             ],
             [
              0.8888888888888888,
              "#fdca26"
             ],
             [
              1,
              "#f0f921"
             ]
            ],
            "type": "heatmap"
           }
          ],
          "heatmapgl": [
           {
            "colorbar": {
             "outlinewidth": 0,
             "ticks": ""
            },
            "colorscale": [
             [
              0,
              "#0d0887"
             ],
             [
              0.1111111111111111,
              "#46039f"
             ],
             [
              0.2222222222222222,
              "#7201a8"
             ],
             [
              0.3333333333333333,
              "#9c179e"
             ],
             [
              0.4444444444444444,
              "#bd3786"
             ],
             [
              0.5555555555555556,
              "#d8576b"
             ],
             [
              0.6666666666666666,
              "#ed7953"
             ],
             [
              0.7777777777777778,
              "#fb9f3a"
             ],
             [
              0.8888888888888888,
              "#fdca26"
             ],
             [
              1,
              "#f0f921"
             ]
            ],
            "type": "heatmapgl"
           }
          ],
          "histogram": [
           {
            "marker": {
             "colorbar": {
              "outlinewidth": 0,
              "ticks": ""
             }
            },
            "type": "histogram"
           }
          ],
          "histogram2d": [
           {
            "colorbar": {
             "outlinewidth": 0,
             "ticks": ""
            },
            "colorscale": [
             [
              0,
              "#0d0887"
             ],
             [
              0.1111111111111111,
              "#46039f"
             ],
             [
              0.2222222222222222,
              "#7201a8"
             ],
             [
              0.3333333333333333,
              "#9c179e"
             ],
             [
              0.4444444444444444,
              "#bd3786"
             ],
             [
              0.5555555555555556,
              "#d8576b"
             ],
             [
              0.6666666666666666,
              "#ed7953"
             ],
             [
              0.7777777777777778,
              "#fb9f3a"
             ],
             [
              0.8888888888888888,
              "#fdca26"
             ],
             [
              1,
              "#f0f921"
             ]
            ],
            "type": "histogram2d"
           }
          ],
          "histogram2dcontour": [
           {
            "colorbar": {
             "outlinewidth": 0,
             "ticks": ""
            },
            "colorscale": [
             [
              0,
              "#0d0887"
             ],
             [
              0.1111111111111111,
              "#46039f"
             ],
             [
              0.2222222222222222,
              "#7201a8"
             ],
             [
              0.3333333333333333,
              "#9c179e"
             ],
             [
              0.4444444444444444,
              "#bd3786"
             ],
             [
              0.5555555555555556,
              "#d8576b"
             ],
             [
              0.6666666666666666,
              "#ed7953"
             ],
             [
              0.7777777777777778,
              "#fb9f3a"
             ],
             [
              0.8888888888888888,
              "#fdca26"
             ],
             [
              1,
              "#f0f921"
             ]
            ],
            "type": "histogram2dcontour"
           }
          ],
          "mesh3d": [
           {
            "colorbar": {
             "outlinewidth": 0,
             "ticks": ""
            },
            "type": "mesh3d"
           }
          ],
          "parcoords": [
           {
            "line": {
             "colorbar": {
              "outlinewidth": 0,
              "ticks": ""
             }
            },
            "type": "parcoords"
           }
          ],
          "pie": [
           {
            "automargin": true,
            "type": "pie"
           }
          ],
          "scatter": [
           {
            "marker": {
             "colorbar": {
              "outlinewidth": 0,
              "ticks": ""
             }
            },
            "type": "scatter"
           }
          ],
          "scatter3d": [
           {
            "line": {
             "colorbar": {
              "outlinewidth": 0,
              "ticks": ""
             }
            },
            "marker": {
             "colorbar": {
              "outlinewidth": 0,
              "ticks": ""
             }
            },
            "type": "scatter3d"
           }
          ],
          "scattercarpet": [
           {
            "marker": {
             "colorbar": {
              "outlinewidth": 0,
              "ticks": ""
             }
            },
            "type": "scattercarpet"
           }
          ],
          "scattergeo": [
           {
            "marker": {
             "colorbar": {
              "outlinewidth": 0,
              "ticks": ""
             }
            },
            "type": "scattergeo"
           }
          ],
          "scattergl": [
           {
            "marker": {
             "colorbar": {
              "outlinewidth": 0,
              "ticks": ""
             }
            },
            "type": "scattergl"
           }
          ],
          "scattermapbox": [
           {
            "marker": {
             "colorbar": {
              "outlinewidth": 0,
              "ticks": ""
             }
            },
            "type": "scattermapbox"
           }
          ],
          "scatterpolar": [
           {
            "marker": {
             "colorbar": {
              "outlinewidth": 0,
              "ticks": ""
             }
            },
            "type": "scatterpolar"
           }
          ],
          "scatterpolargl": [
           {
            "marker": {
             "colorbar": {
              "outlinewidth": 0,
              "ticks": ""
             }
            },
            "type": "scatterpolargl"
           }
          ],
          "scatterternary": [
           {
            "marker": {
             "colorbar": {
              "outlinewidth": 0,
              "ticks": ""
             }
            },
            "type": "scatterternary"
           }
          ],
          "surface": [
           {
            "colorbar": {
             "outlinewidth": 0,
             "ticks": ""
            },
            "colorscale": [
             [
              0,
              "#0d0887"
             ],
             [
              0.1111111111111111,
              "#46039f"
             ],
             [
              0.2222222222222222,
              "#7201a8"
             ],
             [
              0.3333333333333333,
              "#9c179e"
             ],
             [
              0.4444444444444444,
              "#bd3786"
             ],
             [
              0.5555555555555556,
              "#d8576b"
             ],
             [
              0.6666666666666666,
              "#ed7953"
             ],
             [
              0.7777777777777778,
              "#fb9f3a"
             ],
             [
              0.8888888888888888,
              "#fdca26"
             ],
             [
              1,
              "#f0f921"
             ]
            ],
            "type": "surface"
           }
          ],
          "table": [
           {
            "cells": {
             "fill": {
              "color": "#EBF0F8"
             },
             "line": {
              "color": "white"
             }
            },
            "header": {
             "fill": {
              "color": "#C8D4E3"
             },
             "line": {
              "color": "white"
             }
            },
            "type": "table"
           }
          ]
         },
         "layout": {
          "annotationdefaults": {
           "arrowcolor": "#2a3f5f",
           "arrowhead": 0,
           "arrowwidth": 1
          },
          "autotypenumbers": "strict",
          "coloraxis": {
           "colorbar": {
            "outlinewidth": 0,
            "ticks": ""
           }
          },
          "colorscale": {
           "diverging": [
            [
             0,
             "#8e0152"
            ],
            [
             0.1,
             "#c51b7d"
            ],
            [
             0.2,
             "#de77ae"
            ],
            [
             0.3,
             "#f1b6da"
            ],
            [
             0.4,
             "#fde0ef"
            ],
            [
             0.5,
             "#f7f7f7"
            ],
            [
             0.6,
             "#e6f5d0"
            ],
            [
             0.7,
             "#b8e186"
            ],
            [
             0.8,
             "#7fbc41"
            ],
            [
             0.9,
             "#4d9221"
            ],
            [
             1,
             "#276419"
            ]
           ],
           "sequential": [
            [
             0,
             "#0d0887"
            ],
            [
             0.1111111111111111,
             "#46039f"
            ],
            [
             0.2222222222222222,
             "#7201a8"
            ],
            [
             0.3333333333333333,
             "#9c179e"
            ],
            [
             0.4444444444444444,
             "#bd3786"
            ],
            [
             0.5555555555555556,
             "#d8576b"
            ],
            [
             0.6666666666666666,
             "#ed7953"
            ],
            [
             0.7777777777777778,
             "#fb9f3a"
            ],
            [
             0.8888888888888888,
             "#fdca26"
            ],
            [
             1,
             "#f0f921"
            ]
           ],
           "sequentialminus": [
            [
             0,
             "#0d0887"
            ],
            [
             0.1111111111111111,
             "#46039f"
            ],
            [
             0.2222222222222222,
             "#7201a8"
            ],
            [
             0.3333333333333333,
             "#9c179e"
            ],
            [
             0.4444444444444444,
             "#bd3786"
            ],
            [
             0.5555555555555556,
             "#d8576b"
            ],
            [
             0.6666666666666666,
             "#ed7953"
            ],
            [
             0.7777777777777778,
             "#fb9f3a"
            ],
            [
             0.8888888888888888,
             "#fdca26"
            ],
            [
             1,
             "#f0f921"
            ]
           ]
          },
          "colorway": [
           "#636efa",
           "#EF553B",
           "#00cc96",
           "#ab63fa",
           "#FFA15A",
           "#19d3f3",
           "#FF6692",
           "#B6E880",
           "#FF97FF",
           "#FECB52"
          ],
          "font": {
           "color": "#2a3f5f"
          },
          "geo": {
           "bgcolor": "white",
           "lakecolor": "white",
           "landcolor": "#E5ECF6",
           "showlakes": true,
           "showland": true,
           "subunitcolor": "white"
          },
          "hoverlabel": {
           "align": "left"
          },
          "hovermode": "closest",
          "mapbox": {
           "style": "light"
          },
          "paper_bgcolor": "white",
          "plot_bgcolor": "#E5ECF6",
          "polar": {
           "angularaxis": {
            "gridcolor": "white",
            "linecolor": "white",
            "ticks": ""
           },
           "bgcolor": "#E5ECF6",
           "radialaxis": {
            "gridcolor": "white",
            "linecolor": "white",
            "ticks": ""
           }
          },
          "scene": {
           "xaxis": {
            "backgroundcolor": "#E5ECF6",
            "gridcolor": "white",
            "gridwidth": 2,
            "linecolor": "white",
            "showbackground": true,
            "ticks": "",
            "zerolinecolor": "white"
           },
           "yaxis": {
            "backgroundcolor": "#E5ECF6",
            "gridcolor": "white",
            "gridwidth": 2,
            "linecolor": "white",
            "showbackground": true,
            "ticks": "",
            "zerolinecolor": "white"
           },
           "zaxis": {
            "backgroundcolor": "#E5ECF6",
            "gridcolor": "white",
            "gridwidth": 2,
            "linecolor": "white",
            "showbackground": true,
            "ticks": "",
            "zerolinecolor": "white"
           }
          },
          "shapedefaults": {
           "line": {
            "color": "#2a3f5f"
           }
          },
          "ternary": {
           "aaxis": {
            "gridcolor": "white",
            "linecolor": "white",
            "ticks": ""
           },
           "baxis": {
            "gridcolor": "white",
            "linecolor": "white",
            "ticks": ""
           },
           "bgcolor": "#E5ECF6",
           "caxis": {
            "gridcolor": "white",
            "linecolor": "white",
            "ticks": ""
           }
          },
          "title": {
           "x": 0.05
          },
          "xaxis": {
           "automargin": true,
           "gridcolor": "white",
           "linecolor": "white",
           "ticks": "",
           "title": {
            "standoff": 15
           },
           "zerolinecolor": "white",
           "zerolinewidth": 2
          },
          "yaxis": {
           "automargin": true,
           "gridcolor": "white",
           "linecolor": "white",
           "ticks": "",
           "title": {
            "standoff": 15
           },
           "zerolinecolor": "white",
           "zerolinewidth": 2
          }
         }
        },
        "title": {
         "text": "Where are located the protagonists of our story?"
        }
       }
      },
      "text/html": [
       "<div>                            <div id=\"ddf4d27c-1c1d-41e3-b574-eda32a132eb1\" class=\"plotly-graph-div\" style=\"height:525px; width:100%;\"></div>            <script type=\"text/javascript\">                require([\"plotly\"], function(Plotly) {                    window.PLOTLYENV=window.PLOTLYENV || {};                                    if (document.getElementById(\"ddf4d27c-1c1d-41e3-b574-eda32a132eb1\")) {                    Plotly.newPlot(                        \"ddf4d27c-1c1d-41e3-b574-eda32a132eb1\",                        [{\"coloraxis\": \"coloraxis\", \"geo\": \"geo\", \"hovertemplate\": \"locations=%{location}<br>FTE pre-intervention=%{z}<extra></extra>\", \"locationmode\": \"USA-states\", \"locations\": [\"NJ\", \"PA\"], \"name\": \"\", \"type\": \"choropleth\", \"z\": [23.33116912841797, 20.439407348632812]}],                        {\"coloraxis\": {\"colorbar\": {\"title\": {\"text\": \"FTE pre-intervention\"}}, \"colorscale\": [[0.0, \"#0d0887\"], [0.1111111111111111, \"#46039f\"], [0.2222222222222222, \"#7201a8\"], [0.3333333333333333, \"#9c179e\"], [0.4444444444444444, \"#bd3786\"], [0.5555555555555556, \"#d8576b\"], [0.6666666666666666, \"#ed7953\"], [0.7777777777777778, \"#fb9f3a\"], [0.8888888888888888, \"#fdca26\"], [1.0, \"#f0f921\"]]}, \"geo\": {\"center\": {}, \"domain\": {\"x\": [0.0, 1.0], \"y\": [0.0, 1.0]}, \"scope\": \"usa\"}, \"legend\": {\"tracegroupgap\": 0}, \"margin\": {\"t\": 60}, \"template\": {\"data\": {\"bar\": [{\"error_x\": {\"color\": \"#2a3f5f\"}, \"error_y\": {\"color\": \"#2a3f5f\"}, \"marker\": {\"line\": {\"color\": \"#E5ECF6\", \"width\": 0.5}}, \"type\": \"bar\"}], \"barpolar\": [{\"marker\": {\"line\": {\"color\": \"#E5ECF6\", \"width\": 0.5}}, \"type\": \"barpolar\"}], \"carpet\": [{\"aaxis\": {\"endlinecolor\": \"#2a3f5f\", \"gridcolor\": \"white\", \"linecolor\": \"white\", \"minorgridcolor\": \"white\", \"startlinecolor\": \"#2a3f5f\"}, \"baxis\": {\"endlinecolor\": \"#2a3f5f\", \"gridcolor\": \"white\", \"linecolor\": \"white\", \"minorgridcolor\": \"white\", \"startlinecolor\": \"#2a3f5f\"}, \"type\": \"carpet\"}], \"choropleth\": [{\"colorbar\": {\"outlinewidth\": 0, \"ticks\": \"\"}, \"type\": \"choropleth\"}], \"contour\": [{\"colorbar\": {\"outlinewidth\": 0, \"ticks\": \"\"}, \"colorscale\": [[0.0, \"#0d0887\"], [0.1111111111111111, \"#46039f\"], [0.2222222222222222, \"#7201a8\"], [0.3333333333333333, \"#9c179e\"], [0.4444444444444444, \"#bd3786\"], [0.5555555555555556, \"#d8576b\"], [0.6666666666666666, \"#ed7953\"], [0.7777777777777778, \"#fb9f3a\"], [0.8888888888888888, \"#fdca26\"], [1.0, \"#f0f921\"]], \"type\": \"contour\"}], \"contourcarpet\": [{\"colorbar\": {\"outlinewidth\": 0, \"ticks\": \"\"}, \"type\": \"contourcarpet\"}], \"heatmap\": [{\"colorbar\": {\"outlinewidth\": 0, \"ticks\": \"\"}, \"colorscale\": [[0.0, \"#0d0887\"], [0.1111111111111111, \"#46039f\"], [0.2222222222222222, \"#7201a8\"], [0.3333333333333333, \"#9c179e\"], [0.4444444444444444, \"#bd3786\"], [0.5555555555555556, \"#d8576b\"], [0.6666666666666666, \"#ed7953\"], [0.7777777777777778, \"#fb9f3a\"], [0.8888888888888888, \"#fdca26\"], [1.0, \"#f0f921\"]], \"type\": \"heatmap\"}], \"heatmapgl\": [{\"colorbar\": {\"outlinewidth\": 0, \"ticks\": \"\"}, \"colorscale\": [[0.0, \"#0d0887\"], [0.1111111111111111, \"#46039f\"], [0.2222222222222222, \"#7201a8\"], [0.3333333333333333, \"#9c179e\"], [0.4444444444444444, \"#bd3786\"], [0.5555555555555556, \"#d8576b\"], [0.6666666666666666, \"#ed7953\"], [0.7777777777777778, \"#fb9f3a\"], [0.8888888888888888, \"#fdca26\"], [1.0, \"#f0f921\"]], \"type\": \"heatmapgl\"}], \"histogram\": [{\"marker\": {\"colorbar\": {\"outlinewidth\": 0, \"ticks\": \"\"}}, \"type\": \"histogram\"}], \"histogram2d\": [{\"colorbar\": {\"outlinewidth\": 0, \"ticks\": \"\"}, \"colorscale\": [[0.0, \"#0d0887\"], [0.1111111111111111, \"#46039f\"], [0.2222222222222222, \"#7201a8\"], [0.3333333333333333, \"#9c179e\"], [0.4444444444444444, \"#bd3786\"], [0.5555555555555556, \"#d8576b\"], [0.6666666666666666, \"#ed7953\"], [0.7777777777777778, \"#fb9f3a\"], [0.8888888888888888, \"#fdca26\"], [1.0, \"#f0f921\"]], \"type\": \"histogram2d\"}], \"histogram2dcontour\": [{\"colorbar\": {\"outlinewidth\": 0, \"ticks\": \"\"}, \"colorscale\": [[0.0, \"#0d0887\"], [0.1111111111111111, \"#46039f\"], [0.2222222222222222, \"#7201a8\"], [0.3333333333333333, \"#9c179e\"], [0.4444444444444444, \"#bd3786\"], [0.5555555555555556, \"#d8576b\"], [0.6666666666666666, \"#ed7953\"], [0.7777777777777778, \"#fb9f3a\"], [0.8888888888888888, \"#fdca26\"], [1.0, \"#f0f921\"]], \"type\": \"histogram2dcontour\"}], \"mesh3d\": [{\"colorbar\": {\"outlinewidth\": 0, \"ticks\": \"\"}, \"type\": \"mesh3d\"}], \"parcoords\": [{\"line\": {\"colorbar\": {\"outlinewidth\": 0, \"ticks\": \"\"}}, \"type\": \"parcoords\"}], \"pie\": [{\"automargin\": true, \"type\": \"pie\"}], \"scatter\": [{\"marker\": {\"colorbar\": {\"outlinewidth\": 0, \"ticks\": \"\"}}, \"type\": \"scatter\"}], \"scatter3d\": [{\"line\": {\"colorbar\": {\"outlinewidth\": 0, \"ticks\": \"\"}}, \"marker\": {\"colorbar\": {\"outlinewidth\": 0, \"ticks\": \"\"}}, \"type\": \"scatter3d\"}], \"scattercarpet\": [{\"marker\": {\"colorbar\": {\"outlinewidth\": 0, \"ticks\": \"\"}}, \"type\": \"scattercarpet\"}], \"scattergeo\": [{\"marker\": {\"colorbar\": {\"outlinewidth\": 0, \"ticks\": \"\"}}, \"type\": \"scattergeo\"}], \"scattergl\": [{\"marker\": {\"colorbar\": {\"outlinewidth\": 0, \"ticks\": \"\"}}, \"type\": \"scattergl\"}], \"scattermapbox\": [{\"marker\": {\"colorbar\": {\"outlinewidth\": 0, \"ticks\": \"\"}}, \"type\": \"scattermapbox\"}], \"scatterpolar\": [{\"marker\": {\"colorbar\": {\"outlinewidth\": 0, \"ticks\": \"\"}}, \"type\": \"scatterpolar\"}], \"scatterpolargl\": [{\"marker\": {\"colorbar\": {\"outlinewidth\": 0, \"ticks\": \"\"}}, \"type\": \"scatterpolargl\"}], \"scatterternary\": [{\"marker\": {\"colorbar\": {\"outlinewidth\": 0, \"ticks\": \"\"}}, \"type\": \"scatterternary\"}], \"surface\": [{\"colorbar\": {\"outlinewidth\": 0, \"ticks\": \"\"}, \"colorscale\": [[0.0, \"#0d0887\"], [0.1111111111111111, \"#46039f\"], [0.2222222222222222, \"#7201a8\"], [0.3333333333333333, \"#9c179e\"], [0.4444444444444444, \"#bd3786\"], [0.5555555555555556, \"#d8576b\"], [0.6666666666666666, \"#ed7953\"], [0.7777777777777778, \"#fb9f3a\"], [0.8888888888888888, \"#fdca26\"], [1.0, \"#f0f921\"]], \"type\": \"surface\"}], \"table\": [{\"cells\": {\"fill\": {\"color\": \"#EBF0F8\"}, \"line\": {\"color\": \"white\"}}, \"header\": {\"fill\": {\"color\": \"#C8D4E3\"}, \"line\": {\"color\": \"white\"}}, \"type\": \"table\"}]}, \"layout\": {\"annotationdefaults\": {\"arrowcolor\": \"#2a3f5f\", \"arrowhead\": 0, \"arrowwidth\": 1}, \"autotypenumbers\": \"strict\", \"coloraxis\": {\"colorbar\": {\"outlinewidth\": 0, \"ticks\": \"\"}}, \"colorscale\": {\"diverging\": [[0, \"#8e0152\"], [0.1, \"#c51b7d\"], [0.2, \"#de77ae\"], [0.3, \"#f1b6da\"], [0.4, \"#fde0ef\"], [0.5, \"#f7f7f7\"], [0.6, \"#e6f5d0\"], [0.7, \"#b8e186\"], [0.8, \"#7fbc41\"], [0.9, \"#4d9221\"], [1, \"#276419\"]], \"sequential\": [[0.0, \"#0d0887\"], [0.1111111111111111, \"#46039f\"], [0.2222222222222222, \"#7201a8\"], [0.3333333333333333, \"#9c179e\"], [0.4444444444444444, \"#bd3786\"], [0.5555555555555556, \"#d8576b\"], [0.6666666666666666, \"#ed7953\"], [0.7777777777777778, \"#fb9f3a\"], [0.8888888888888888, \"#fdca26\"], [1.0, \"#f0f921\"]], \"sequentialminus\": [[0.0, \"#0d0887\"], [0.1111111111111111, \"#46039f\"], [0.2222222222222222, \"#7201a8\"], [0.3333333333333333, \"#9c179e\"], [0.4444444444444444, \"#bd3786\"], [0.5555555555555556, \"#d8576b\"], [0.6666666666666666, \"#ed7953\"], [0.7777777777777778, \"#fb9f3a\"], [0.8888888888888888, \"#fdca26\"], [1.0, \"#f0f921\"]]}, \"colorway\": [\"#636efa\", \"#EF553B\", \"#00cc96\", \"#ab63fa\", \"#FFA15A\", \"#19d3f3\", \"#FF6692\", \"#B6E880\", \"#FF97FF\", \"#FECB52\"], \"font\": {\"color\": \"#2a3f5f\"}, \"geo\": {\"bgcolor\": \"white\", \"lakecolor\": \"white\", \"landcolor\": \"#E5ECF6\", \"showlakes\": true, \"showland\": true, \"subunitcolor\": \"white\"}, \"hoverlabel\": {\"align\": \"left\"}, \"hovermode\": \"closest\", \"mapbox\": {\"style\": \"light\"}, \"paper_bgcolor\": \"white\", \"plot_bgcolor\": \"#E5ECF6\", \"polar\": {\"angularaxis\": {\"gridcolor\": \"white\", \"linecolor\": \"white\", \"ticks\": \"\"}, \"bgcolor\": \"#E5ECF6\", \"radialaxis\": {\"gridcolor\": \"white\", \"linecolor\": \"white\", \"ticks\": \"\"}}, \"scene\": {\"xaxis\": {\"backgroundcolor\": \"#E5ECF6\", \"gridcolor\": \"white\", \"gridwidth\": 2, \"linecolor\": \"white\", \"showbackground\": true, \"ticks\": \"\", \"zerolinecolor\": \"white\"}, \"yaxis\": {\"backgroundcolor\": \"#E5ECF6\", \"gridcolor\": \"white\", \"gridwidth\": 2, \"linecolor\": \"white\", \"showbackground\": true, \"ticks\": \"\", \"zerolinecolor\": \"white\"}, \"zaxis\": {\"backgroundcolor\": \"#E5ECF6\", \"gridcolor\": \"white\", \"gridwidth\": 2, \"linecolor\": \"white\", \"showbackground\": true, \"ticks\": \"\", \"zerolinecolor\": \"white\"}}, \"shapedefaults\": {\"line\": {\"color\": \"#2a3f5f\"}}, \"ternary\": {\"aaxis\": {\"gridcolor\": \"white\", \"linecolor\": \"white\", \"ticks\": \"\"}, \"baxis\": {\"gridcolor\": \"white\", \"linecolor\": \"white\", \"ticks\": \"\"}, \"bgcolor\": \"#E5ECF6\", \"caxis\": {\"gridcolor\": \"white\", \"linecolor\": \"white\", \"ticks\": \"\"}}, \"title\": {\"x\": 0.05}, \"xaxis\": {\"automargin\": true, \"gridcolor\": \"white\", \"linecolor\": \"white\", \"ticks\": \"\", \"title\": {\"standoff\": 15}, \"zerolinecolor\": \"white\", \"zerolinewidth\": 2}, \"yaxis\": {\"automargin\": true, \"gridcolor\": \"white\", \"linecolor\": \"white\", \"ticks\": \"\", \"title\": {\"standoff\": 15}, \"zerolinecolor\": \"white\", \"zerolinewidth\": 2}}}, \"title\": {\"text\": \"Where are located the protagonists of our story?\"}},                        {\"responsive\": true}                    ).then(function(){\n",
       "                            \n",
       "var gd = document.getElementById('ddf4d27c-1c1d-41e3-b574-eda32a132eb1');\n",
       "var x = new MutationObserver(function (mutations, observer) {{\n",
       "        var display = window.getComputedStyle(gd).display;\n",
       "        if (!display || display === 'none') {{\n",
       "            console.log([gd, 'removed!']);\n",
       "            Plotly.purge(gd);\n",
       "            observer.disconnect();\n",
       "        }}\n",
       "}});\n",
       "\n",
       "// Listen for the removal of the full notebook cells\n",
       "var notebookContainer = gd.closest('#notebook-container');\n",
       "if (notebookContainer) {{\n",
       "    x.observe(notebookContainer, {childList: true});\n",
       "}}\n",
       "\n",
       "// Listen for the clearing of the current output cell\n",
       "var outputEl = gd.closest('.output');\n",
       "if (outputEl) {{\n",
       "    x.observe(outputEl, {childList: true});\n",
       "}}\n",
       "\n",
       "                        })                };                });            </script>        </div>"
      ]
     },
     "metadata": {},
     "output_type": "display_data"
    }
   ],
   "source": [
    "fig = px.choropleth(locations=[\"NJ\", \"PA\"], locationmode=\"USA-states\",\n",
    "                    color=df[df[\"time\"]==0].groupby(\"state\")[\"FTE\"].mean(),\n",
    "                    scope=\"usa\", labels={\"color\":\"FTE pre-intervention\"}).update_layout(title=\"Where are located the protagonists of our story?\")\n",
    "\n",
    "fig.show()"
   ]
  },
  {
   "cell_type": "code",
   "execution_count": 18,
   "metadata": {},
   "outputs": [
    {
     "name": "stdout",
     "output_type": "stream",
     "text": [
      "   chain_bk  chain_kfc  chain_roys  chain_wendys\n",
      "0         1          0           0             0\n",
      "1         0          1           0             0\n",
      "2         0          0           1             0\n",
      "3         0          0           0             1\n"
     ]
    }
   ],
   "source": [
    "bool_split = pd.DataFrame({'chain': ['bk', 'kfc', 'roys', 'wendys']})\n",
    "print(pd.get_dummies(bool_split))"
   ]
  },
  {
   "cell_type": "code",
   "execution_count": 15,
   "metadata": {},
   "outputs": [
    {
     "data": {
      "text/plain": [
       "state\n",
       "0.0    14.525316\n",
       "1.0    14.418429\n",
       "Name: hoursopen, dtype: float32"
      ]
     },
     "execution_count": 15,
     "metadata": {},
     "output_type": "execute_result"
    }
   ],
   "source": [
    "df[df[\"time\"]<1].groupby(\"state\")[\"hoursopen\"].mean()"
   ]
  },
  {
   "cell_type": "code",
   "execution_count": 65,
   "metadata": {},
   "outputs": [
    {
     "data": {
      "text/html": [
       "<div>\n",
       "<style scoped>\n",
       "    .dataframe tbody tr th:only-of-type {\n",
       "        vertical-align: middle;\n",
       "    }\n",
       "\n",
       "    .dataframe tbody tr th {\n",
       "        vertical-align: top;\n",
       "    }\n",
       "\n",
       "    .dataframe thead th {\n",
       "        text-align: right;\n",
       "    }\n",
       "</style>\n",
       "<table border=\"1\" class=\"dataframe\">\n",
       "  <thead>\n",
       "    <tr style=\"text-align: right;\">\n",
       "      <th></th>\n",
       "      <th>sheet</th>\n",
       "      <th>chain</th>\n",
       "      <th>co_owned</th>\n",
       "      <th>state</th>\n",
       "      <th>southj</th>\n",
       "      <th>centralj</th>\n",
       "      <th>northj</th>\n",
       "      <th>pa1</th>\n",
       "      <th>pa2</th>\n",
       "      <th>shore</th>\n",
       "      <th>...</th>\n",
       "      <th>meals2</th>\n",
       "      <th>open2r</th>\n",
       "      <th>hrsopen2</th>\n",
       "      <th>psoda2</th>\n",
       "      <th>pfry2</th>\n",
       "      <th>pentree2</th>\n",
       "      <th>nregs2</th>\n",
       "      <th>nregs112</th>\n",
       "      <th>FTE</th>\n",
       "      <th>FTE2</th>\n",
       "    </tr>\n",
       "  </thead>\n",
       "  <tbody>\n",
       "    <tr>\n",
       "      <th>0</th>\n",
       "      <td>46</td>\n",
       "      <td>1</td>\n",
       "      <td>0</td>\n",
       "      <td>0</td>\n",
       "      <td>0</td>\n",
       "      <td>0</td>\n",
       "      <td>0</td>\n",
       "      <td>1</td>\n",
       "      <td>0</td>\n",
       "      <td>0</td>\n",
       "      <td>...</td>\n",
       "      <td>2.0</td>\n",
       "      <td>6.5</td>\n",
       "      <td>16.5</td>\n",
       "      <td>1.03</td>\n",
       "      <td>NaN</td>\n",
       "      <td>0.94</td>\n",
       "      <td>4.0</td>\n",
       "      <td>4.0</td>\n",
       "      <td>40.50</td>\n",
       "      <td>24.00</td>\n",
       "    </tr>\n",
       "    <tr>\n",
       "      <th>1</th>\n",
       "      <td>49</td>\n",
       "      <td>2</td>\n",
       "      <td>0</td>\n",
       "      <td>0</td>\n",
       "      <td>0</td>\n",
       "      <td>0</td>\n",
       "      <td>0</td>\n",
       "      <td>1</td>\n",
       "      <td>0</td>\n",
       "      <td>0</td>\n",
       "      <td>...</td>\n",
       "      <td>2.0</td>\n",
       "      <td>10.0</td>\n",
       "      <td>13.0</td>\n",
       "      <td>1.01</td>\n",
       "      <td>0.89</td>\n",
       "      <td>2.35</td>\n",
       "      <td>4.0</td>\n",
       "      <td>4.0</td>\n",
       "      <td>13.75</td>\n",
       "      <td>11.50</td>\n",
       "    </tr>\n",
       "    <tr>\n",
       "      <th>2</th>\n",
       "      <td>506</td>\n",
       "      <td>2</td>\n",
       "      <td>1</td>\n",
       "      <td>0</td>\n",
       "      <td>0</td>\n",
       "      <td>0</td>\n",
       "      <td>0</td>\n",
       "      <td>1</td>\n",
       "      <td>0</td>\n",
       "      <td>0</td>\n",
       "      <td>...</td>\n",
       "      <td>1.0</td>\n",
       "      <td>11.0</td>\n",
       "      <td>11.0</td>\n",
       "      <td>0.95</td>\n",
       "      <td>0.74</td>\n",
       "      <td>2.33</td>\n",
       "      <td>4.0</td>\n",
       "      <td>3.0</td>\n",
       "      <td>8.50</td>\n",
       "      <td>10.50</td>\n",
       "    </tr>\n",
       "    <tr>\n",
       "      <th>3</th>\n",
       "      <td>56</td>\n",
       "      <td>4</td>\n",
       "      <td>1</td>\n",
       "      <td>0</td>\n",
       "      <td>0</td>\n",
       "      <td>0</td>\n",
       "      <td>0</td>\n",
       "      <td>1</td>\n",
       "      <td>0</td>\n",
       "      <td>0</td>\n",
       "      <td>...</td>\n",
       "      <td>2.0</td>\n",
       "      <td>10.0</td>\n",
       "      <td>12.0</td>\n",
       "      <td>0.92</td>\n",
       "      <td>0.79</td>\n",
       "      <td>0.87</td>\n",
       "      <td>2.0</td>\n",
       "      <td>2.0</td>\n",
       "      <td>34.00</td>\n",
       "      <td>20.00</td>\n",
       "    </tr>\n",
       "    <tr>\n",
       "      <th>4</th>\n",
       "      <td>61</td>\n",
       "      <td>4</td>\n",
       "      <td>1</td>\n",
       "      <td>0</td>\n",
       "      <td>0</td>\n",
       "      <td>0</td>\n",
       "      <td>0</td>\n",
       "      <td>1</td>\n",
       "      <td>0</td>\n",
       "      <td>0</td>\n",
       "      <td>...</td>\n",
       "      <td>2.0</td>\n",
       "      <td>10.0</td>\n",
       "      <td>12.0</td>\n",
       "      <td>1.01</td>\n",
       "      <td>0.84</td>\n",
       "      <td>0.95</td>\n",
       "      <td>2.0</td>\n",
       "      <td>2.0</td>\n",
       "      <td>24.00</td>\n",
       "      <td>35.50</td>\n",
       "    </tr>\n",
       "    <tr>\n",
       "      <th>...</th>\n",
       "      <td>...</td>\n",
       "      <td>...</td>\n",
       "      <td>...</td>\n",
       "      <td>...</td>\n",
       "      <td>...</td>\n",
       "      <td>...</td>\n",
       "      <td>...</td>\n",
       "      <td>...</td>\n",
       "      <td>...</td>\n",
       "      <td>...</td>\n",
       "      <td>...</td>\n",
       "      <td>...</td>\n",
       "      <td>...</td>\n",
       "      <td>...</td>\n",
       "      <td>...</td>\n",
       "      <td>...</td>\n",
       "      <td>...</td>\n",
       "      <td>...</td>\n",
       "      <td>...</td>\n",
       "      <td>...</td>\n",
       "      <td>...</td>\n",
       "    </tr>\n",
       "    <tr>\n",
       "      <th>405</th>\n",
       "      <td>423</td>\n",
       "      <td>2</td>\n",
       "      <td>1</td>\n",
       "      <td>1</td>\n",
       "      <td>0</td>\n",
       "      <td>0</td>\n",
       "      <td>1</td>\n",
       "      <td>0</td>\n",
       "      <td>0</td>\n",
       "      <td>0</td>\n",
       "      <td>...</td>\n",
       "      <td>1.0</td>\n",
       "      <td>11.0</td>\n",
       "      <td>11.0</td>\n",
       "      <td>1.05</td>\n",
       "      <td>0.84</td>\n",
       "      <td>2.32</td>\n",
       "      <td>3.0</td>\n",
       "      <td>2.0</td>\n",
       "      <td>9.00</td>\n",
       "      <td>23.75</td>\n",
       "    </tr>\n",
       "    <tr>\n",
       "      <th>406</th>\n",
       "      <td>424</td>\n",
       "      <td>2</td>\n",
       "      <td>1</td>\n",
       "      <td>1</td>\n",
       "      <td>0</td>\n",
       "      <td>0</td>\n",
       "      <td>1</td>\n",
       "      <td>0</td>\n",
       "      <td>0</td>\n",
       "      <td>0</td>\n",
       "      <td>...</td>\n",
       "      <td>1.0</td>\n",
       "      <td>11.0</td>\n",
       "      <td>14.0</td>\n",
       "      <td>1.05</td>\n",
       "      <td>0.94</td>\n",
       "      <td>2.32</td>\n",
       "      <td>5.0</td>\n",
       "      <td>3.0</td>\n",
       "      <td>9.75</td>\n",
       "      <td>17.50</td>\n",
       "    </tr>\n",
       "    <tr>\n",
       "      <th>407</th>\n",
       "      <td>426</td>\n",
       "      <td>3</td>\n",
       "      <td>1</td>\n",
       "      <td>1</td>\n",
       "      <td>0</td>\n",
       "      <td>0</td>\n",
       "      <td>1</td>\n",
       "      <td>0</td>\n",
       "      <td>0</td>\n",
       "      <td>0</td>\n",
       "      <td>...</td>\n",
       "      <td>2.0</td>\n",
       "      <td>6.0</td>\n",
       "      <td>18.0</td>\n",
       "      <td>1.11</td>\n",
       "      <td>1.05</td>\n",
       "      <td>1.05</td>\n",
       "      <td>6.0</td>\n",
       "      <td>5.0</td>\n",
       "      <td>24.50</td>\n",
       "      <td>20.50</td>\n",
       "    </tr>\n",
       "    <tr>\n",
       "      <th>408</th>\n",
       "      <td>427</td>\n",
       "      <td>4</td>\n",
       "      <td>0</td>\n",
       "      <td>1</td>\n",
       "      <td>0</td>\n",
       "      <td>0</td>\n",
       "      <td>1</td>\n",
       "      <td>0</td>\n",
       "      <td>0</td>\n",
       "      <td>0</td>\n",
       "      <td>...</td>\n",
       "      <td>2.0</td>\n",
       "      <td>10.5</td>\n",
       "      <td>12.5</td>\n",
       "      <td>1.11</td>\n",
       "      <td>1.09</td>\n",
       "      <td>2.07</td>\n",
       "      <td>2.0</td>\n",
       "      <td>2.0</td>\n",
       "      <td>14.00</td>\n",
       "      <td>20.50</td>\n",
       "    </tr>\n",
       "    <tr>\n",
       "      <th>409</th>\n",
       "      <td>428</td>\n",
       "      <td>4</td>\n",
       "      <td>0</td>\n",
       "      <td>1</td>\n",
       "      <td>0</td>\n",
       "      <td>0</td>\n",
       "      <td>1</td>\n",
       "      <td>0</td>\n",
       "      <td>0</td>\n",
       "      <td>0</td>\n",
       "      <td>...</td>\n",
       "      <td>2.0</td>\n",
       "      <td>10.5</td>\n",
       "      <td>12.5</td>\n",
       "      <td>1.05</td>\n",
       "      <td>0.89</td>\n",
       "      <td>2.11</td>\n",
       "      <td>2.0</td>\n",
       "      <td>2.0</td>\n",
       "      <td>19.50</td>\n",
       "      <td>25.00</td>\n",
       "    </tr>\n",
       "  </tbody>\n",
       "</table>\n",
       "<p>410 rows × 48 columns</p>\n",
       "</div>"
      ],
      "text/plain": [
       "     sheet  chain  co_owned  state  southj  centralj  northj  pa1  pa2  shore  \\\n",
       "0       46      1         0      0       0         0       0    1    0      0   \n",
       "1       49      2         0      0       0         0       0    1    0      0   \n",
       "2      506      2         1      0       0         0       0    1    0      0   \n",
       "3       56      4         1      0       0         0       0    1    0      0   \n",
       "4       61      4         1      0       0         0       0    1    0      0   \n",
       "..     ...    ...       ...    ...     ...       ...     ...  ...  ...    ...   \n",
       "405    423      2         1      1       0         0       1    0    0      0   \n",
       "406    424      2         1      1       0         0       1    0    0      0   \n",
       "407    426      3         1      1       0         0       1    0    0      0   \n",
       "408    427      4         0      1       0         0       1    0    0      0   \n",
       "409    428      4         0      1       0         0       1    0    0      0   \n",
       "\n",
       "     ...  meals2  open2r  hrsopen2  psoda2  pfry2  pentree2  nregs2  nregs112  \\\n",
       "0    ...     2.0     6.5      16.5    1.03    NaN      0.94     4.0       4.0   \n",
       "1    ...     2.0    10.0      13.0    1.01   0.89      2.35     4.0       4.0   \n",
       "2    ...     1.0    11.0      11.0    0.95   0.74      2.33     4.0       3.0   \n",
       "3    ...     2.0    10.0      12.0    0.92   0.79      0.87     2.0       2.0   \n",
       "4    ...     2.0    10.0      12.0    1.01   0.84      0.95     2.0       2.0   \n",
       "..   ...     ...     ...       ...     ...    ...       ...     ...       ...   \n",
       "405  ...     1.0    11.0      11.0    1.05   0.84      2.32     3.0       2.0   \n",
       "406  ...     1.0    11.0      14.0    1.05   0.94      2.32     5.0       3.0   \n",
       "407  ...     2.0     6.0      18.0    1.11   1.05      1.05     6.0       5.0   \n",
       "408  ...     2.0    10.5      12.5    1.11   1.09      2.07     2.0       2.0   \n",
       "409  ...     2.0    10.5      12.5    1.05   0.89      2.11     2.0       2.0   \n",
       "\n",
       "       FTE   FTE2  \n",
       "0    40.50  24.00  \n",
       "1    13.75  11.50  \n",
       "2     8.50  10.50  \n",
       "3    34.00  20.00  \n",
       "4    24.00  35.50  \n",
       "..     ...    ...  \n",
       "405   9.00  23.75  \n",
       "406   9.75  17.50  \n",
       "407  24.50  20.50  \n",
       "408  14.00  20.50  \n",
       "409  19.50  25.00  \n",
       "\n",
       "[410 rows x 48 columns]"
      ]
     },
     "execution_count": 65,
     "metadata": {},
     "output_type": "execute_result"
    }
   ],
   "source": [
    "df_extended = pd.read_stata('data/fastfood.dta')\n",
    "\n",
    "df_extended[\"date2\"] = pd.to_datetime(df_extended[\"date2\"].astype(str), format=\"%m%d%y\")\n",
    "df_extended[\"FTE\"] = df_extended.empft + df_extended.nmgrs + 0.5 * df_extended.emppt\n",
    "df_extended[\"FTE2\"] = df_extended.empft2 + df_extended.nmgrs2 + 0.5 * df_extended.emppt2\n",
    "\n",
    "df_extended"
   ]
  },
  {
   "cell_type": "markdown",
   "metadata": {},
   "source": [
    "An interactive explorative analysis visualization can be accessed here, obtained via `Pandas Profiling Report` function."
   ]
  },
  {
   "cell_type": "markdown",
   "metadata": {},
   "source": [
    "---\n",
    "# 2. Descriptive Statistics\n",
    "---"
   ]
  },
  {
   "cell_type": "code",
   "execution_count": null,
   "metadata": {},
   "outputs": [],
   "source": [
    "prof = ProfileReport(df)\n",
    "#prof.to_file(output_file='profile_report.html')\n",
    "#the above line generate an html file stored in the project folder"
   ]
  },
  {
   "cell_type": "code",
   "execution_count": 390,
   "metadata": {},
   "outputs": [
    {
     "name": "stdout",
     "output_type": "stream",
     "text": [
      "                            OLS Regression Results                            \n",
      "==============================================================================\n",
      "Dep. Variable:                    FTE   R-squared:                       0.219\n",
      "Model:                            OLS   Adj. R-squared:                  0.211\n",
      "Method:                 Least Squares   F-statistic:                     27.47\n",
      "Date:                Sat, 19 Jun 2021   Prob (F-statistic):           9.44e-38\n",
      "Time:                        15:48:49   Log-Likelihood:                -2809.2\n",
      "No. Observations:                 794   AIC:                             5636.\n",
      "Df Residuals:                     785   BIC:                             5679.\n",
      "Df Model:                           8                                         \n",
      "Covariance Type:            nonrobust                                         \n",
      "==============================================================================\n",
      "                 coef    std err          t      P>|t|      [0.025      0.975]\n",
      "------------------------------------------------------------------------------\n",
      "Intercept     24.3532      0.601     40.549      0.000      23.174      25.532\n",
      "nj_after       0.6401      0.630      1.016      0.310      -0.597       1.877\n",
      "kfc          -10.0556      0.845    -11.899      0.000     -11.714      -8.397\n",
      "roys          -1.7036      0.858     -1.985      0.048      -3.389      -0.019\n",
      "wendys        -1.0349      0.921     -1.124      0.261      -2.842       0.772\n",
      "co_owned      -0.7064      0.719     -0.983      0.326      -2.117       0.704\n",
      "southj        -3.6672      0.755     -4.857      0.000      -5.149      -2.185\n",
      "centralj       0.0452      0.878      0.052      0.959      -1.677       1.768\n",
      "pa1            0.7740      1.130      0.685      0.494      -1.444       2.992\n",
      "==============================================================================\n",
      "Omnibus:                      296.588   Durbin-Watson:                   1.609\n",
      "Prob(Omnibus):                  0.000   Jarque-Bera (JB):             1861.874\n",
      "Skew:                           1.553   Prob(JB):                         0.00\n",
      "Kurtosis:                       9.828   Cond. No.                         5.17\n",
      "==============================================================================\n",
      "\n",
      "Notes:\n",
      "[1] Standard Errors assume that the covariance matrix of the errors is correctly specified.\n"
     ]
    }
   ],
   "source": [
    "model = smf.ols(formula = \"FTE ~ nj_after + kfc + roys + wendys + co_owned + southj + centralj + pa1\", data = df).fit()\n",
    "print(model.summary())"
   ]
  },
  {
   "cell_type": "markdown",
   "metadata": {},
   "source": [
    "The result shows “nj_after” is not statistically significant, meaning the minimum wage law has no impact on employment. In a DiD you can control for other covariates that may differ between the groups."
   ]
  },
  {
   "cell_type": "markdown",
   "metadata": {},
   "source": [
    "Let's compute the FTE of NJ, PA and the counterfactual:"
   ]
  },
  {
   "cell_type": "code",
   "execution_count": 387,
   "metadata": {},
   "outputs": [],
   "source": [
    "'''\n",
    "2x2 dif-in-dif table\n",
    "'''\n",
    "# NJ Before and after\n",
    "NJ_before = round(df.loc[(df['state']==1) & (df['time']!=1),'FTE'].mean(),2)\n",
    "NJ_after  = round(df.loc[(df['state']==1) & (df['time']==1),'FTE'].mean(),2)\n",
    "\n",
    "# PA Before and after\n",
    "PA_before = round(df.loc[(df['state']!=1) & (df['time']!=1),'FTE'].mean(),2)\n",
    "PA_after  = round(df.loc[(df['state']!=1) & (df['time']==1),'FTE'].mean(),2)\n",
    "\n",
    "# NJ counterfactual (if no treatment)\n",
    "NJ_counterfactual = round(NJ_before + ( NJ_before - PA_before ),2)\n",
    "\n",
    "def did_est():\n",
    "    did= pd.DataFrame(data=np.array([[NJ_after, NJ_before,NJ_after - NJ_before],\n",
    "    [PA_after, PA_before, PA_after - PA_before]]), index=['NJ','PA'],columns=['after','before','$\\Delta$'])\n",
    "    return did\n"
   ]
  },
  {
   "cell_type": "code",
   "execution_count": 388,
   "metadata": {},
   "outputs": [
    {
     "data": {
      "text/html": [
       "<div>\n",
       "<style scoped>\n",
       "    .dataframe tbody tr th:only-of-type {\n",
       "        vertical-align: middle;\n",
       "    }\n",
       "\n",
       "    .dataframe tbody tr th {\n",
       "        vertical-align: top;\n",
       "    }\n",
       "\n",
       "    .dataframe thead th {\n",
       "        text-align: right;\n",
       "    }\n",
       "</style>\n",
       "<table border=\"1\" class=\"dataframe\">\n",
       "  <thead>\n",
       "    <tr style=\"text-align: right;\">\n",
       "      <th></th>\n",
       "      <th>after</th>\n",
       "      <th>before</th>\n",
       "      <th>$\\Delta$</th>\n",
       "    </tr>\n",
       "  </thead>\n",
       "  <tbody>\n",
       "    <tr>\n",
       "      <th>NJ</th>\n",
       "      <td>21.03</td>\n",
       "      <td>20.44</td>\n",
       "      <td>0.59</td>\n",
       "    </tr>\n",
       "    <tr>\n",
       "      <th>PA</th>\n",
       "      <td>21.17</td>\n",
       "      <td>23.33</td>\n",
       "      <td>-2.16</td>\n",
       "    </tr>\n",
       "  </tbody>\n",
       "</table>\n",
       "</div>"
      ],
      "text/plain": [
       "    after  before  $\\Delta$\n",
       "NJ  21.03   20.44      0.59\n",
       "PA  21.17   23.33     -2.16"
      ]
     },
     "execution_count": 388,
     "metadata": {},
     "output_type": "execute_result"
    }
   ],
   "source": [
    "did_est()"
   ]
  },
  {
   "cell_type": "code",
   "execution_count": 385,
   "metadata": {},
   "outputs": [
    {
     "name": "stdout",
     "output_type": "stream",
     "text": [
      "Dif-in-dif estimate is 2.75\n"
     ]
    }
   ],
   "source": [
    "print(\"Dif-in-dif estimate is\", round(did_est()['$\\Delta$'][0]-did_est()['$\\Delta$'][1],2))"
   ]
  },
  {
   "cell_type": "markdown",
   "metadata": {},
   "source": [
    "This estimate means that the relatives gain after the increase in minimum wage for New Jersey stores compare to Pennslyvania stores (“the difference-in-differences” of the changes in employment for the subset of stores with available employment data in wave 1 and wave 2) is 2.75 FTE employees. Since the number is positive, at face value, the policy change has not led employers to cut employment. However, we should check the standard error to see if the estimated impact is statistically significant.\n",
    "\n",
    "Indeed, that is what I am going to do now:"
   ]
  },
  {
   "cell_type": "code",
   "execution_count": 400,
   "metadata": {},
   "outputs": [
    {
     "name": "stdout",
     "output_type": "stream",
     "text": [
      "                            OLS Regression Results                            \n",
      "==============================================================================\n",
      "Dep. Variable:                    FTE   R-squared:                       0.007\n",
      "Model:                            OLS   Adj. R-squared:                  0.004\n",
      "Method:                 Least Squares   F-statistic:                     1.964\n",
      "Date:                Sat, 19 Jun 2021   Prob (F-statistic):              0.118\n",
      "Time:                        16:28:30   Log-Likelihood:                -2904.2\n",
      "No. Observations:                 794   AIC:                             5816.\n",
      "Df Residuals:                     790   BIC:                             5835.\n",
      "Df Model:                           3                                         \n",
      "Covariance Type:            nonrobust                                         \n",
      "==============================================================================\n",
      "                 coef    std err          t      P>|t|      [0.025      0.975]\n",
      "------------------------------------------------------------------------------\n",
      "Intercept     23.3312      1.072     21.767      0.000      21.227      25.435\n",
      "state         -2.8918      1.194     -2.423      0.016      -5.235      -0.549\n",
      "time          -2.1656      1.516     -1.429      0.154      -5.141       0.810\n",
      "state:time     2.7536      1.688      1.631      0.103      -0.561       6.068\n",
      "==============================================================================\n",
      "Omnibus:                      218.742   Durbin-Watson:                   1.322\n",
      "Prob(Omnibus):                  0.000   Jarque-Bera (JB):              804.488\n",
      "Skew:                           1.268   Prob(JB):                    2.03e-175\n",
      "Kurtosis:                       7.229   Cond. No.                         11.3\n",
      "==============================================================================\n",
      "\n",
      "Notes:\n",
      "[1] Standard Errors assume that the covariance matrix of the errors is correctly specified.\n"
     ]
    }
   ],
   "source": [
    "model = smf.ols(formula = \"FTE ~ state*time\", data = df).fit()\n",
    "print(model.summary())"
   ]
  },
  {
   "cell_type": "code",
   "execution_count": 398,
   "metadata": {},
   "outputs": [
    {
     "name": "stdout",
     "output_type": "stream",
     "text": [
      "Dif-in-dif coefficient estimate is  2.75\n"
     ]
    }
   ],
   "source": [
    "print(\"Dif-in-dif coefficient estimate is \",round(model.params[3],2))"
   ]
  },
  {
   "cell_type": "markdown",
   "metadata": {},
   "source": [
    "We see that the dif-in-dif coefficient estimate from the regression output is the same as computed manually above from the $\\Delta$ table. Additionally, now we know that it is not significant at 10% level."
   ]
  },
  {
   "cell_type": "markdown",
   "metadata": {},
   "source": [
    "We can plot the DiD like the following:"
   ]
  },
  {
   "cell_type": "code",
   "execution_count": 370,
   "metadata": {},
   "outputs": [
    {
     "data": {
      "text/plain": [
       "Text(0.5, 1.0, 'Difference-in-difference: Before and After')"
      ]
     },
     "execution_count": 370,
     "metadata": {},
     "output_type": "execute_result"
    },
    {
     "data": {
      "text/plain": [
       "<Figure size 320x240 with 0 Axes>"
      ]
     },
     "metadata": {},
     "output_type": "display_data"
    },
    {
     "data": {
      "image/png": "[encoded data removed]",
      "text/plain": [
       "<Figure size 432x288 with 1 Axes>"
      ]
     },
     "metadata": {},
     "output_type": "display_data"
    }
   ],
   "source": [
    "\n",
    "pltpy.figure(num=None, figsize=(4, 3), dpi=80, facecolor='w', edgecolor='k')\n",
    "fig, ax = pltpy.subplots()\n",
    "lineNJ, = ax.plot(['0', '1'], [NJ_before, NJ_after],color='blue',label='NJ before and after')\n",
    "linePA, = ax.plot(['0', '1'], [PA_before, PA_after],color = 'red',label = 'PA before and after')\n",
    "lineNJ0, = ax.plot(['0', '1'], [NJ_before, NJ_counterfactual],color = 'blue',linestyle='dashed',label='NJ counterfactual')\n",
    "ax.legend()\n",
    "pltpy.ylim(15, 28)\n",
    "plt.pyplot.axvline(x=0.5, color='black')\n",
    "plt.pyplot.xticks([0,0.5,1], ['before','policy into force','after'])\n",
    "plt.pyplot.xlabel('TIME')\n",
    "plt.pyplot.ylabel('EMPLOYMENT')\n",
    "pltpy.title(\"Difference-in-difference: Before and After\", fontsize=\"14\")"
   ]
  },
  {
   "cell_type": "code",
   "execution_count": null,
   "metadata": {},
   "outputs": [],
   "source": [
    "def table1(data_2):#carolina\n",
    "    \"\"\"\n",
    "    Creates Table 2.\n",
    "    \"\"\"\n",
    "    variables = data_2[\n",
    "        [\n",
    "            \"KIDCOUNT\",\n",
    "            \"more2k\",\n",
    "            \"boy1st\",\n",
    "            \"boy2nd\",\n",
    "            \"two_boys\"\n",
    "        ]\n",
    "    ]\n",
    "\n",
    "    table2 = pd.DataFrame()\n",
    "    table2[\"All\"] = for i in variables.mean()\n",
    "    table2[\"Standard Deviation\"] = variables.std()\n",
    "    table2 = table2.astype(float).round(2)\n",
    "    table2[\"Description\"] = [\n",
    "        \"Children ever born\",\n",
    "        \"More than two children\",\n",
    "        \"The first child is a boy\",\n",
    "        \"The second child is a boy\",\n",
    "        \"First two childs are boys\",\n",
    "        \"First two childs are girls\",\n",
    "        \"Age of mom when first kid was born\",\n",
    "    ]\n",
    "\n",
    "    return table2"
   ]
  },
  {
   "cell_type": "code",
   "execution_count": 347,
   "metadata": {},
   "outputs": [],
   "source": [
    "def table1(df):\n",
    "    '''\n",
    "    replication Table 1\n",
    "    '''\n",
    "    state_unique= df[\"state\"].unique()\n",
    "    status_unique= df[\"status2\"].unique()\n",
    "    table1 = pd.DataFrame()\n",
    "    for i in state_unique:\n",
    "        for j in staus_unique:\n",
    "            table1.at[j,i]= sum((df.state == i) & (df.status2 == j))\n",
    "    table1[\"All\"]=table1[0]+table1[1]\n",
    "\n",
    "    table1=table1.append(table1.sum(numeric_only=True), ignore_index=True)\n",
    "\n",
    "    table1 = table1.rename({0: 'PA',1: 'NJ'}, axis=1)\n",
    "    table1 = table1.rename({0: 'interviewed stores:',1: 'closed sores:',2:'temp closed -highway',\n",
    "                        3:'under renovation:',4:'refusals:',5:'temp closed - fire',6:'total stores in sample:'}, axis=0)\n",
    "\n",
    "    return table1"
   ]
  },
  {
   "cell_type": "code",
   "execution_count": 349,
   "metadata": {},
   "outputs": [
    {
     "data": {
      "text/html": [
       "<div>\n",
       "<style scoped>\n",
       "    .dataframe tbody tr th:only-of-type {\n",
       "        vertical-align: middle;\n",
       "    }\n",
       "\n",
       "    .dataframe tbody tr th {\n",
       "        vertical-align: top;\n",
       "    }\n",
       "\n",
       "    .dataframe thead th {\n",
       "        text-align: right;\n",
       "    }\n",
       "</style>\n",
       "<table border=\"1\" class=\"dataframe\">\n",
       "  <thead>\n",
       "    <tr style=\"text-align: right;\">\n",
       "      <th></th>\n",
       "      <th>PA</th>\n",
       "      <th>NJ</th>\n",
       "      <th>All</th>\n",
       "    </tr>\n",
       "  </thead>\n",
       "  <tbody>\n",
       "    <tr>\n",
       "      <th>interviewed stores:</th>\n",
       "      <td>78.0</td>\n",
       "      <td>321.0</td>\n",
       "      <td>399.0</td>\n",
       "    </tr>\n",
       "    <tr>\n",
       "      <th>closed sores:</th>\n",
       "      <td>1.0</td>\n",
       "      <td>5.0</td>\n",
       "      <td>6.0</td>\n",
       "    </tr>\n",
       "    <tr>\n",
       "      <th>temp closed -highway</th>\n",
       "      <td>0.0</td>\n",
       "      <td>1.0</td>\n",
       "      <td>1.0</td>\n",
       "    </tr>\n",
       "    <tr>\n",
       "      <th>under renovation:</th>\n",
       "      <td>0.0</td>\n",
       "      <td>2.0</td>\n",
       "      <td>2.0</td>\n",
       "    </tr>\n",
       "    <tr>\n",
       "      <th>refusals:</th>\n",
       "      <td>0.0</td>\n",
       "      <td>1.0</td>\n",
       "      <td>1.0</td>\n",
       "    </tr>\n",
       "    <tr>\n",
       "      <th>temp closed - fire</th>\n",
       "      <td>0.0</td>\n",
       "      <td>1.0</td>\n",
       "      <td>1.0</td>\n",
       "    </tr>\n",
       "    <tr>\n",
       "      <th>total stores in sample:</th>\n",
       "      <td>79.0</td>\n",
       "      <td>331.0</td>\n",
       "      <td>410.0</td>\n",
       "    </tr>\n",
       "  </tbody>\n",
       "</table>\n",
       "</div>"
      ],
      "text/plain": [
       "                           PA     NJ    All\n",
       "interviewed stores:      78.0  321.0  399.0\n",
       "closed sores:             1.0    5.0    6.0\n",
       "temp closed -highway      0.0    1.0    1.0\n",
       "under renovation:         0.0    2.0    2.0\n",
       "refusals:                 0.0    1.0    1.0\n",
       "temp closed - fire        0.0    1.0    1.0\n",
       "total stores in sample:  79.0  331.0  410.0"
      ]
     },
     "execution_count": 349,
     "metadata": {},
     "output_type": "execute_result"
    }
   ],
   "source": [
    "table1(df_extended)"
   ]
  },
  {
   "cell_type": "code",
   "execution_count": 661,
   "metadata": {},
   "outputs": [],
   "source": [
    "df_before= df[df[\"time\"]==0]\n",
    "df_after= df[df[\"time\"]==1]\n",
    "\n",
    "def figure1(df_before,df_after):\n",
    "    \n",
    "    '''\n",
    "    Figure 1: distribution of starting wage rates\n",
    "    '''\n",
    "    plt.pyplot.figure(figsize=(15, 10), dpi=70, facecolor='w', edgecolor='k')\n",
    "    plt.pyplot.subplots_adjust(wspace=0.2, hspace=0.4)\n",
    "\n",
    "    plt.pyplot.xlabel('wage range')\n",
    "    plt.pyplot.ylabel('percent of stores')\n",
    "    plt.pyplot.subplot(1, 2, 1)\n",
    "    plt.pyplot.grid(True)\n",
    "    plt.pyplot.hist([df_before.loc[(df_before['state']==1),\"wage_st\"],df_before.loc[(df_before['state']==0),'wage_st']], \n",
    "                    bins=np.arange(4.05, 5.85, 0.10),density=True, label=['NJ','PA'])\n",
    "    plt.pyplot.xlabel('wage range')\n",
    "    plt.pyplot.ylabel('percent of stores')\n",
    "    plt.pyplot.legend(loc='upper right')\n",
    "    plt.pyplot.title('February 1992')\n",
    "    \n",
    "\n",
    "    plt.pyplot.subplot(1, 2, 2)\n",
    "    plt.pyplot.grid(True)\n",
    "    plt.pyplot.hist([df_after.loc[(df_after['state']==1),'wage_st'],df_after.loc[(df_after['state']==0),'wage_st']], \n",
    "                bins=np.arange(4.05, 5.85, 0.10), density=True, label=['NJ','PA'])\n",
    "    plt.pyplot.xlabel('wage range')\n",
    "    plt.pyplot.ylabel('percent of stores')\n",
    "    plt.pyplot.legend(loc='upper right')\n",
    "    plt.pyplot.title('November 1992')\n",
    "\n",
    "    return plt.pyplot.show()\n"
   ]
  },
  {
   "cell_type": "code",
   "execution_count": 662,
   "metadata": {
    "scrolled": true
   },
   "outputs": [
    {
     "data": {
      "image/png": "[encoded data removed]",
      "text/plain": [
       "<Figure size 1050x700 with 2 Axes>"
      ]
     },
     "metadata": {},
     "output_type": "display_data"
    }
   ],
   "source": [
    "figure1(df_before,df_after)"
   ]
  },
  {
   "cell_type": "code",
   "execution_count": 479,
   "metadata": {},
   "outputs": [],
   "source": [
    "df_sampletree=df['state','time','FTE']"
   ]
  },
  {
   "cell_type": "code",
   "execution_count": 520,
   "metadata": {},
   "outputs": [
    {
     "data": {
      "text/html": [
       "<div>\n",
       "<style scoped>\n",
       "    .dataframe tbody tr th:only-of-type {\n",
       "        vertical-align: middle;\n",
       "    }\n",
       "\n",
       "    .dataframe tbody tr th {\n",
       "        vertical-align: top;\n",
       "    }\n",
       "\n",
       "    .dataframe thead th {\n",
       "        text-align: right;\n",
       "    }\n",
       "</style>\n",
       "<table border=\"1\" class=\"dataframe\">\n",
       "  <thead>\n",
       "    <tr style=\"text-align: right;\">\n",
       "      <th></th>\n",
       "      <th>colonna 1</th>\n",
       "      <th>colonna 2</th>\n",
       "      <th>colonna 3</th>\n",
       "    </tr>\n",
       "  </thead>\n",
       "  <tbody>\n",
       "    <tr>\n",
       "      <th>riga 1</th>\n",
       "      <td>1</td>\n",
       "      <td>4</td>\n",
       "      <td>7</td>\n",
       "    </tr>\n",
       "    <tr>\n",
       "      <th>riga 2</th>\n",
       "      <td>1</td>\n",
       "      <td>4</td>\n",
       "      <td>8</td>\n",
       "    </tr>\n",
       "    <tr>\n",
       "      <th>riga 3</th>\n",
       "      <td>1</td>\n",
       "      <td>6</td>\n",
       "      <td>9</td>\n",
       "    </tr>\n",
       "  </tbody>\n",
       "</table>\n",
       "</div>"
      ],
      "text/plain": [
       "        colonna 1  colonna 2  colonna 3\n",
       "riga 1          1          4          7\n",
       "riga 2          1          4          8\n",
       "riga 3          1          6          9"
      ]
     },
     "execution_count": 520,
     "metadata": {},
     "output_type": "execute_result"
    }
   ],
   "source": [
    "\n",
    "new_df=pd.DataFrame(columns=[\"colonna 1\", \"colonna 2\", \"colonna 3\"],index=[\"riga 1\",\"riga 2\", \"riga 3\"])\n",
    "new_df[\"colonna 1\"]=[1,1,1]\n",
    "new_df[\"colonna 2\"]=[4,4,6]\n",
    "new_df[\"colonna 3\"]=[7,8,9]\n",
    "\n",
    "new_df"
   ]
  },
  {
   "cell_type": "code",
   "execution_count": 176,
   "metadata": {},
   "outputs": [],
   "source": [
    "#subsetting the original dataframe\n",
    "df_NJ= df[df[\"state\"]==1]\n",
    "df_PA= df[df[\"state\"]==0]\n",
    "df_NJ_0= df[(df[\"state\"]==1) & (df[\"time\"]==0)]\n",
    "df_NJ_1= df[(df[\"state\"]==1) & (df[\"time\"]==1)]\n",
    "df_PA_0= df[(df[\"state\"]==0) & (df[\"time\"]==0)]\n",
    "df_PA_1= df[(df[\"state\"]==0) & (df[\"time\"]==1)]"
   ]
  },
  {
   "cell_type": "code",
   "execution_count": 308,
   "metadata": {},
   "outputs": [],
   "source": [
    "#table2 - panel 1\n",
    "def distr_store_type(data_NJ,data_PA):\n",
    "    variables=['bk','kfc','roys','wendys','co_owned']\n",
    "    NJ= pd.DataFrame()\n",
    "    PA= pd.DataFrame()\n",
    "    #df_NJ= df[df[\"state\"]==1]\n",
    "    #df_PA= df[df[\"state\"]==0]\n",
    "\n",
    "    NJ['NJ']= (data_NJ[variables].sum() / len(data_NJ[variables])) * 100\n",
    "    PA['PA']= (data_PA[variables].sum() / len(data_PA[variables])) * 100\n",
    "    table2_1 = pd.concat([NJ, PA], axis=1)    \n",
    "    table2_1['t-stat']=scipy.stats.ttest_ind(df_NJ[variables],df_PA[variables])[0]\n",
    "    table2_1 = table2_1.astype(float).round(2)\n",
    "    table2_1= table2_1.rename(index={'bk': 'Burger King','kfc':'KFC','roys':'Roy Rogers',\n",
    "                                    'wendys':\"Wendy's\",'co_owned':'company-owned'})\n",
    "\n",
    "\n",
    "    print(\"Distribution of store types (percentage)\")\n",
    "    return table2_1"
   ]
  },
  {
   "cell_type": "code",
   "execution_count": 309,
   "metadata": {},
   "outputs": [
    {
     "name": "stdout",
     "output_type": "stream",
     "text": [
      "Distribution of store types (percentage)\n"
     ]
    },
    {
     "data": {
      "text/html": [
       "<div>\n",
       "<style scoped>\n",
       "    .dataframe tbody tr th:only-of-type {\n",
       "        vertical-align: middle;\n",
       "    }\n",
       "\n",
       "    .dataframe tbody tr th {\n",
       "        vertical-align: top;\n",
       "    }\n",
       "\n",
       "    .dataframe thead th {\n",
       "        text-align: right;\n",
       "    }\n",
       "</style>\n",
       "<table border=\"1\" class=\"dataframe\">\n",
       "  <thead>\n",
       "    <tr style=\"text-align: right;\">\n",
       "      <th></th>\n",
       "      <th>NJ</th>\n",
       "      <th>PA</th>\n",
       "      <th>t-stat</th>\n",
       "    </tr>\n",
       "  </thead>\n",
       "  <tbody>\n",
       "    <tr>\n",
       "      <th>Burger King</th>\n",
       "      <td>41.09</td>\n",
       "      <td>44.30</td>\n",
       "      <td>-0.74</td>\n",
       "    </tr>\n",
       "    <tr>\n",
       "      <th>KFC</th>\n",
       "      <td>20.54</td>\n",
       "      <td>15.19</td>\n",
       "      <td>1.53</td>\n",
       "    </tr>\n",
       "    <tr>\n",
       "      <th>Roy Rogers</th>\n",
       "      <td>24.77</td>\n",
       "      <td>21.52</td>\n",
       "      <td>0.86</td>\n",
       "    </tr>\n",
       "    <tr>\n",
       "      <th>Wendy's</th>\n",
       "      <td>13.60</td>\n",
       "      <td>18.99</td>\n",
       "      <td>-1.72</td>\n",
       "    </tr>\n",
       "    <tr>\n",
       "      <th>company-owned</th>\n",
       "      <td>34.14</td>\n",
       "      <td>35.44</td>\n",
       "      <td>-0.31</td>\n",
       "    </tr>\n",
       "  </tbody>\n",
       "</table>\n",
       "</div>"
      ],
      "text/plain": [
       "                  NJ     PA  t-stat\n",
       "Burger King    41.09  44.30   -0.74\n",
       "KFC            20.54  15.19    1.53\n",
       "Roy Rogers     24.77  21.52    0.86\n",
       "Wendy's        13.60  18.99   -1.72\n",
       "company-owned  34.14  35.44   -0.31"
      ]
     },
     "execution_count": 309,
     "metadata": {},
     "output_type": "execute_result"
    }
   ],
   "source": [
    "distr_store_type(df_NJ,df_PA)"
   ]
  },
  {
   "cell_type": "code",
   "execution_count": 304,
   "metadata": {},
   "outputs": [],
   "source": [
    "#table2 - panel 2\n",
    "def means_wave1(data_NJ,data_PA):\n",
    "    variables=['FTE','pct_FTE','wage_st','price_full_meal','hoursopen']\n",
    "    NJ= pd.DataFrame()\n",
    "    PA= pd.DataFrame()\n",
    "    #df_NJ_0= df[(df[\"state\"]==1) & (df[\"time\"]==0)]\n",
    "    #df_PA_0= df[(df[\"state\"]==0) & (df[\"time\"]==0)]\n",
    "\n",
    "    se_NJ=[]\n",
    "    a=np.array(data_NJ['FTE'])\n",
    "    a = a[~np.isnan(a)]\n",
    "    b=np.array(data_NJ['pct_FTE'])\n",
    "    b = b[~np.isnan(b)]\n",
    "    c=np.array(data_NJ['wage_st'])\n",
    "    c = c[~np.isnan(c)]\n",
    "    d=np.array(data_NJ['price_full_meal'])\n",
    "    d = d[~np.isnan(d)]\n",
    "    e=np.array(data_NJ['hoursopen'])\n",
    "    e = e[~np.isnan(e)]\n",
    "    x=[a,b,c,d,e]\n",
    "    for x in x:\n",
    "        se_NJ.append(scipy.stats.sem(x))\n",
    "\n",
    "    NJ['mean']= data_NJ[variables].mean()\n",
    "    NJ['std_err']= se_NJ\n",
    "    \n",
    "    se_PA=[]\n",
    "    f=np.array(data_PA['FTE'])\n",
    "    f = f[~np.isnan(f)]\n",
    "    g=np.array(data_PA['pct_FTE'])\n",
    "    g = g[~np.isnan(g)]\n",
    "    h=np.array(data_PA['wage_st'])\n",
    "    h = h[~np.isnan(h)]\n",
    "    l=np.array(data_PA['price_full_meal'])\n",
    "    l = l[~np.isnan(l)]\n",
    "    m=np.array(data_PA['hoursopen'])\n",
    "    m = m[~np.isnan(m)]\n",
    "    z=[f,g,h,l,m]\n",
    "    for z in z:\n",
    "        se_PA.append(scipy.stats.sem(z))    \n",
    "    \n",
    "    PA['mean']= data_PA[variables].mean()\n",
    "    PA['std_err']= se_PA\n",
    "    \n",
    "   \n",
    "    table2_2 = pd.concat([NJ, PA], axis=1)\n",
    "    table2_2.columns = pd.MultiIndex.from_product([['stores in NJ', 'stores in PA'],\n",
    "                                                ['mean', 'std_err']])\n",
    "    table2_2['t-stat']=[scipy.stats.ttest_ind(a,f)[0],scipy.stats.ttest_ind(b,g)[0],\n",
    "                   scipy.stats.ttest_ind(c,h)[0],scipy.stats.ttest_ind(d,l)[0],scipy.stats.ttest_ind(e,m)[0]]\n",
    "\n",
    "    data_NJ['wage_4.25$']= data_NJ['wage_st']==4.25\n",
    "    wage_425_NJ_0=(data_NJ['wage_4.25$'].sum() / len(data_NJ['wage_4.25$']))*100\n",
    "\n",
    "    se_425_NJ_0= scipy.stats.sem(data_NJ['wage_4.25$'])*100\n",
    "\n",
    "    data_PA['wage_4.25$']= data_PA['wage_st']==4.25\n",
    "    wage_425_PA_0=(data_PA['wage_4.25$'].sum() / len(data_PA['wage_4.25$']))*100\n",
    "\n",
    "    se_425_PA_0= scipy.stats.sem(data_PA['wage_4.25$'])*100\n",
    "\n",
    "    test_wage_425 = scipy.stats.ttest_ind(data_NJ['wage_4.25$'],data_PA['wage_4.25$'])[0]\n",
    "\n",
    "    table2_2.loc[\"wage_425\",:]=(wage_425_NJ_0,se_425_NJ_0,wage_425_PA_0,se_425_PA_0,test_wage_425)#add as new row to dataframe\n",
    "\n",
    "    table2_2 = table2_2.astype(float).round(2)\n",
    "    table2_2= table2_2.rename(index={'FTE': 'FTE employment','pct_FTE':'% full-time employees','wage_st':'starting wage',\n",
    "                                    'price_full_meal':'price of full meal','hoursopen':'hours open','wage_425':'wage = 4.25$ (%)'})\n",
    "\n",
    "\n",
    "    print(\"Means in wave 1\")\n",
    "    return table2_2\n",
    "\n"
   ]
  },
  {
   "cell_type": "code",
   "execution_count": 305,
   "metadata": {},
   "outputs": [
    {
     "name": "stdout",
     "output_type": "stream",
     "text": [
      "Means in wave 1\n"
     ]
    },
    {
     "data": {
      "text/html": [
       "<div>\n",
       "<style scoped>\n",
       "    .dataframe tbody tr th:only-of-type {\n",
       "        vertical-align: middle;\n",
       "    }\n",
       "\n",
       "    .dataframe tbody tr th {\n",
       "        vertical-align: top;\n",
       "    }\n",
       "\n",
       "    .dataframe thead tr th {\n",
       "        text-align: left;\n",
       "    }\n",
       "</style>\n",
       "<table border=\"1\" class=\"dataframe\">\n",
       "  <thead>\n",
       "    <tr>\n",
       "      <th></th>\n",
       "      <th colspan=\"2\" halign=\"left\">stores in NJ</th>\n",
       "      <th colspan=\"2\" halign=\"left\">stores in PA</th>\n",
       "      <th>t-stat</th>\n",
       "    </tr>\n",
       "    <tr>\n",
       "      <th></th>\n",
       "      <th>mean</th>\n",
       "      <th>std_err</th>\n",
       "      <th>mean</th>\n",
       "      <th>std_err</th>\n",
       "      <th></th>\n",
       "    </tr>\n",
       "  </thead>\n",
       "  <tbody>\n",
       "    <tr>\n",
       "      <th>FTE employment</th>\n",
       "      <td>20.44</td>\n",
       "      <td>0.51</td>\n",
       "      <td>23.33</td>\n",
       "      <td>1.35</td>\n",
       "      <td>-2.35</td>\n",
       "    </tr>\n",
       "    <tr>\n",
       "      <th>% full-time employees</th>\n",
       "      <td>32.85</td>\n",
       "      <td>1.33</td>\n",
       "      <td>35.04</td>\n",
       "      <td>2.73</td>\n",
       "      <td>-0.73</td>\n",
       "    </tr>\n",
       "    <tr>\n",
       "      <th>starting wage</th>\n",
       "      <td>4.61</td>\n",
       "      <td>0.02</td>\n",
       "      <td>4.63</td>\n",
       "      <td>0.04</td>\n",
       "      <td>-0.41</td>\n",
       "    </tr>\n",
       "    <tr>\n",
       "      <th>price of full meal</th>\n",
       "      <td>3.35</td>\n",
       "      <td>0.04</td>\n",
       "      <td>3.04</td>\n",
       "      <td>0.07</td>\n",
       "      <td>3.79</td>\n",
       "    </tr>\n",
       "    <tr>\n",
       "      <th>hours open</th>\n",
       "      <td>14.42</td>\n",
       "      <td>0.15</td>\n",
       "      <td>14.53</td>\n",
       "      <td>0.33</td>\n",
       "      <td>-0.30</td>\n",
       "    </tr>\n",
       "    <tr>\n",
       "      <th>wage = 4.25$ (%)</th>\n",
       "      <td>30.51</td>\n",
       "      <td>2.53</td>\n",
       "      <td>32.91</td>\n",
       "      <td>5.32</td>\n",
       "      <td>-0.41</td>\n",
       "    </tr>\n",
       "  </tbody>\n",
       "</table>\n",
       "</div>"
      ],
      "text/plain": [
       "                      stores in NJ         stores in PA         t-stat\n",
       "                              mean std_err         mean std_err       \n",
       "FTE employment               20.44    0.51        23.33    1.35  -2.35\n",
       "% full-time employees        32.85    1.33        35.04    2.73  -0.73\n",
       "starting wage                 4.61    0.02         4.63    0.04  -0.41\n",
       "price of full meal            3.35    0.04         3.04    0.07   3.79\n",
       "hours open                   14.42    0.15        14.53    0.33  -0.30\n",
       "wage = 4.25$ (%)             30.51    2.53        32.91    5.32  -0.41"
      ]
     },
     "execution_count": 305,
     "metadata": {},
     "output_type": "execute_result"
    }
   ],
   "source": [
    "means_wave1(df_NJ_0,df_PA_0)"
   ]
  },
  {
   "cell_type": "code",
   "execution_count": 302,
   "metadata": {},
   "outputs": [],
   "source": [
    "#table2 - panel 3\n",
    "def means_wave2(data_NJ,data_PA):\n",
    "    variables=['FTE','pct_FTE','wage_st','price_full_meal','hoursopen']\n",
    "    NJ= pd.DataFrame()\n",
    "    PA= pd.DataFrame()\n",
    "    #df_NJ_1= df[(df[\"state\"]==1) & (df[\"time\"]==1)]\n",
    "    #df_PA_1= df[(df[\"state\"]==0) & (df[\"time\"]==1)]\n",
    "\n",
    "    se_NJ=[]\n",
    "    a=np.array(data_NJ['FTE'])\n",
    "    a = a[~np.isnan(a)]\n",
    "    b=np.array(data_NJ['pct_FTE'])\n",
    "    b = b[~np.isnan(b)]\n",
    "    c=np.array(data_NJ['wage_st'])\n",
    "    c = c[~np.isnan(c)]\n",
    "    d=np.array(data_NJ['price_full_meal'])\n",
    "    d = d[~np.isnan(d)]\n",
    "    e=np.array(data_NJ['hoursopen'])\n",
    "    e = e[~np.isnan(e)]\n",
    "    x=[a,b,c,d,e]\n",
    "    for x in x:\n",
    "        se_NJ.append(scipy.stats.sem(x))\n",
    "\n",
    "    NJ['mean']= data_NJ[variables].mean()\n",
    "    NJ['std_err']= se_NJ\n",
    "    \n",
    "    se_PA=[]\n",
    "    f=np.array(data_PA['FTE'])\n",
    "    f = f[~np.isnan(f)]\n",
    "    g=np.array(data_PA['pct_FTE'])\n",
    "    g = g[~np.isnan(g)]\n",
    "    h=np.array(data_PA['wage_st'])\n",
    "    h = h[~np.isnan(h)]\n",
    "    l=np.array(data_PA['price_full_meal'])\n",
    "    l = l[~np.isnan(l)]\n",
    "    m=np.array(data_PA['hoursopen'])\n",
    "    m = m[~np.isnan(m)]\n",
    "    z=[f,g,h,l,m]\n",
    "    for z in z:\n",
    "        se_PA.append(scipy.stats.sem(z))    \n",
    "    \n",
    "    PA['mean']= data_PA[variables].mean()\n",
    "    PA['std_err']= se_PA\n",
    "    \n",
    "   \n",
    "    table2_3 = pd.concat([NJ, PA], axis=1)\n",
    "    table2_3.columns = pd.MultiIndex.from_product([['stores in NJ', 'stores in PA'],\n",
    "                                                ['mean', 'std_err']])\n",
    "    table2_3['t-stat']=[scipy.stats.ttest_ind(a,f)[0],scipy.stats.ttest_ind(b,g)[0],\n",
    "                   scipy.stats.ttest_ind(c,h)[0],scipy.stats.ttest_ind(d,l)[0],scipy.stats.ttest_ind(e,m)[0]]\n",
    "\n",
    "    data_NJ['wage_4.25$']= data_NJ['wage_st']==4.25\n",
    "    wage_425_NJ_1=(data_NJ['wage_4.25$'].sum() / len(data_NJ['wage_4.25$']))*100\n",
    "\n",
    "    se_425_NJ_1= scipy.stats.sem(data_NJ['wage_4.25$'])*100\n",
    "\n",
    "    data_PA['wage_4.25$']= data_PA['wage_st']==4.25\n",
    "    wage_425_PA_1=(data_PA['wage_4.25$'].sum() / len(data_PA['wage_4.25$']))*100\n",
    "\n",
    "    se_425_PA_1= scipy.stats.sem(data_PA['wage_4.25$'])*100\n",
    "\n",
    "    \n",
    "    table2_3.loc[\"wage_425\",:]=(wage_425_NJ_1,se_425_NJ_1,wage_425_PA_1,se_425_PA_1,float(\"NaN\"))#add as new row to dataframe\n",
    "    \n",
    "    \n",
    "    data_NJ['wage_5.05$']= data_NJ['wage_st']==5.05\n",
    "    wage_505_NJ_1=(data_NJ['wage_5.05$'].sum() / len(data_NJ['wage_5.05$']))*100\n",
    "\n",
    "    se_505_NJ_1= scipy.stats.sem(data_NJ['wage_5.05$'])*100\n",
    "\n",
    "    data_PA['wage_5.05$']= data_PA['wage_st']==5.05\n",
    "    wage_505_PA_1=(data_PA['wage_5.05$'].sum() / len(data_PA['wage_5.05$']))*100\n",
    "\n",
    "    se_505_PA_1= scipy.stats.sem(data_PA['wage_5.05$'])*100\n",
    "\n",
    "    test_wage_505 = scipy.stats.ttest_ind(data_NJ['wage_5.05$'],data_PA['wage_5.05$'])[0]\n",
    "    \n",
    "    table2_3.loc[\"wage_505\",:]=(wage_505_NJ_1,se_505_NJ_1,wage_505_PA_1,se_505_PA_1,test_wage_505)#add as new row to dataframe\n",
    "\n",
    "    table2_3 = table2_3.astype(float).round(2)\n",
    "    table2_3= table2_3.rename(index={'FTE': 'FTE employment','pct_FTE':'% full-time employees','wage_st':'starting wage',\n",
    "                                    'price_full_meal':'price of full meal','hoursopen':'hours open','wage_425':'wage = 4.25$ (%)',\n",
    "                                    'wage_505':'wage = 5.05$ (%)'})\n",
    "\n",
    "\n",
    "    print(\"Means in wave 2\")\n",
    "    return table2_3\n",
    "\n"
   ]
  },
  {
   "cell_type": "code",
   "execution_count": 303,
   "metadata": {},
   "outputs": [
    {
     "name": "stdout",
     "output_type": "stream",
     "text": [
      "Means in wave 2\n"
     ]
    },
    {
     "data": {
      "text/html": [
       "<div>\n",
       "<style scoped>\n",
       "    .dataframe tbody tr th:only-of-type {\n",
       "        vertical-align: middle;\n",
       "    }\n",
       "\n",
       "    .dataframe tbody tr th {\n",
       "        vertical-align: top;\n",
       "    }\n",
       "\n",
       "    .dataframe thead tr th {\n",
       "        text-align: left;\n",
       "    }\n",
       "</style>\n",
       "<table border=\"1\" class=\"dataframe\">\n",
       "  <thead>\n",
       "    <tr>\n",
       "      <th></th>\n",
       "      <th colspan=\"2\" halign=\"left\">stores in NJ</th>\n",
       "      <th colspan=\"2\" halign=\"left\">stores in PA</th>\n",
       "      <th>t-stat</th>\n",
       "    </tr>\n",
       "    <tr>\n",
       "      <th></th>\n",
       "      <th>mean</th>\n",
       "      <th>std_err</th>\n",
       "      <th>mean</th>\n",
       "      <th>std_err</th>\n",
       "      <th></th>\n",
       "    </tr>\n",
       "  </thead>\n",
       "  <tbody>\n",
       "    <tr>\n",
       "      <th>FTE employment</th>\n",
       "      <td>21.03</td>\n",
       "      <td>0.52</td>\n",
       "      <td>21.17</td>\n",
       "      <td>0.94</td>\n",
       "      <td>-0.12</td>\n",
       "    </tr>\n",
       "    <tr>\n",
       "      <th>% full-time employees</th>\n",
       "      <td>35.87</td>\n",
       "      <td>1.38</td>\n",
       "      <td>30.38</td>\n",
       "      <td>2.81</td>\n",
       "      <td>1.75</td>\n",
       "    </tr>\n",
       "    <tr>\n",
       "      <th>starting wage</th>\n",
       "      <td>5.08</td>\n",
       "      <td>0.01</td>\n",
       "      <td>4.62</td>\n",
       "      <td>0.04</td>\n",
       "      <td>19.71</td>\n",
       "    </tr>\n",
       "    <tr>\n",
       "      <th>price of full meal</th>\n",
       "      <td>3.41</td>\n",
       "      <td>0.04</td>\n",
       "      <td>3.03</td>\n",
       "      <td>0.07</td>\n",
       "      <td>4.73</td>\n",
       "    </tr>\n",
       "    <tr>\n",
       "      <th>hours open</th>\n",
       "      <td>14.42</td>\n",
       "      <td>0.15</td>\n",
       "      <td>14.65</td>\n",
       "      <td>0.33</td>\n",
       "      <td>-0.67</td>\n",
       "    </tr>\n",
       "    <tr>\n",
       "      <th>wage = 4.25$ (%)</th>\n",
       "      <td>0.00</td>\n",
       "      <td>0.00</td>\n",
       "      <td>25.32</td>\n",
       "      <td>4.92</td>\n",
       "      <td>NaN</td>\n",
       "    </tr>\n",
       "    <tr>\n",
       "      <th>wage = 5.05$ (%)</th>\n",
       "      <td>85.50</td>\n",
       "      <td>1.94</td>\n",
       "      <td>1.27</td>\n",
       "      <td>1.27</td>\n",
       "      <td>20.96</td>\n",
       "    </tr>\n",
       "  </tbody>\n",
       "</table>\n",
       "</div>"
      ],
      "text/plain": [
       "                      stores in NJ         stores in PA         t-stat\n",
       "                              mean std_err         mean std_err       \n",
       "FTE employment               21.03    0.52        21.17    0.94  -0.12\n",
       "% full-time employees        35.87    1.38        30.38    2.81   1.75\n",
       "starting wage                 5.08    0.01         4.62    0.04  19.71\n",
       "price of full meal            3.41    0.04         3.03    0.07   4.73\n",
       "hours open                   14.42    0.15        14.65    0.33  -0.67\n",
       "wage = 4.25$ (%)              0.00    0.00        25.32    4.92    NaN\n",
       "wage = 5.05$ (%)             85.50    1.94         1.27    1.27  20.96"
      ]
     },
     "execution_count": 303,
     "metadata": {},
     "output_type": "execute_result"
    }
   ],
   "source": [
    "means_wave2(df_NJ_1,df_PA_1)"
   ]
  },
  {
   "cell_type": "code",
   "execution_count": 21,
   "metadata": {},
   "outputs": [
    {
     "data": {
      "text/plain": [
       "bk          41.087613\n",
       "kfc         20.543807\n",
       "roys        24.773414\n",
       "wendys      13.595166\n",
       "co_owned    34.138973\n",
       "dtype: float64"
      ]
     },
     "execution_count": 21,
     "metadata": {},
     "output_type": "execute_result"
    }
   ],
   "source": [
    "'''    \n",
    "def describe_covariates_at_cutoff(data, bandwidth):\n",
    "    \"\"\"\n",
    "      Summary table used for validity checks. \n",
    "    \"\"\"\n",
    "    variables = ['hsgrade_pct', 'totcredits_year1', 'age_at_entry', 'male', 'english', \n",
    "                 'bpl_north_america','loc_campus1', 'loc_campus2', 'loc_campus3']\n",
    "\n",
    "    treat = pd.DataFrame()\n",
    "    untreat = pd.DataFrame()\n",
    "\n",
    "    sample = data[abs(data['dist_from_cut']) < bandwidth]\n",
    "    sample_treat = sample[sample['dist_from_cut'] < 0]\n",
    "    sample_untreat = sample[sample['dist_from_cut'] >= 0]\n",
    "\n",
    "    # treated sample.\n",
    "    treat['Mean'] = sample_treat[variables].mean()\n",
    "    treat['Std.'] = sample_treat[variables].std()\n",
    "    # untreated sample.\n",
    "    untreat['Mean'] = sample_untreat[variables].mean()\n",
    "    untreat['Std.'] = sample_untreat[variables].std()\n",
    "\n",
    "    table = pd.concat([treat, untreat], axis=1)\n",
    "    table.columns = pd.MultiIndex.from_product([['Below cutoff', 'Above cutoff'],\n",
    "                                                ['Mean', 'Std.']])\n",
    "    table = table.astype(float).round(2)\n",
    "\n",
    "    table['Description'] = [\"High School Grade Percentile\", \"Credits attempted first year\", \n",
    "                            \"Age at entry\", \"Male\", \"English is first language\", \n",
    "                            \"Born in North America\", \"At Campus 1\", \"At Campus 2\", \"At Campus 3\"]\n",
    "\n",
    "    return table\n",
    "    '''"
   ]
  },
  {
   "cell_type": "code",
   "execution_count": 264,
   "metadata": {},
   "outputs": [
    {
     "data": {
      "text/plain": [
       "sheet                int16\n",
       "chain                 int8\n",
       "co_owned              int8\n",
       "state                 int8\n",
       "southj                int8\n",
       "centralj              int8\n",
       "northj                int8\n",
       "pa1                   int8\n",
       "pa2                   int8\n",
       "shore                 int8\n",
       "ncalls                int8\n",
       "empft              float32\n",
       "emppt              float32\n",
       "nmgrs              float32\n",
       "wage_st            float32\n",
       "inctime            float32\n",
       "firstinc           float32\n",
       "bonus                 int8\n",
       "pctaff             float32\n",
       "meals                 int8\n",
       "open               float32\n",
       "hrsopen            float32\n",
       "psoda              float32\n",
       "pfry               float32\n",
       "pentree            float32\n",
       "nregs              float64\n",
       "nregs11            float64\n",
       "type2                 int8\n",
       "status2               int8\n",
       "date2       datetime64[ns]\n",
       "ncalls2            float64\n",
       "empft2             float32\n",
       "emppt2             float32\n",
       "nmgrs2             float32\n",
       "wage_st2           float32\n",
       "inctime2           float64\n",
       "firstin2           float32\n",
       "special2           float64\n",
       "meals2             float64\n",
       "open2r             float32\n",
       "hrsopen2           float32\n",
       "psoda2             float32\n",
       "pfry2              float32\n",
       "pentree2           float32\n",
       "nregs2             float64\n",
       "nregs112           float64\n",
       "FTE                float32\n",
       "FTE2               float32\n",
       "dtype: object"
      ]
     },
     "execution_count": 264,
     "metadata": {},
     "output_type": "execute_result"
    }
   ],
   "source": [
    "df_extended.dtypes"
   ]
  },
  {
   "cell_type": "code",
   "execution_count": 260,
   "metadata": {},
   "outputs": [
    {
     "name": "stderr",
     "output_type": "stream",
     "text": [
      "C:\\Users\\Utente\\Anaconda3\\lib\\site-packages\\ipykernel_launcher.py:1: SettingWithCopyWarning:\n",
      "\n",
      "\n",
      "A value is trying to be set on a copy of a slice from a DataFrame.\n",
      "Try using .loc[row_indexer,col_indexer] = value instead\n",
      "\n",
      "See the caveats in the documentation: https://pandas.pydata.org/pandas-docs/stable/user_guide/indexing.html#returning-a-view-versus-a-copy\n",
      "\n",
      "C:\\Users\\Utente\\Anaconda3\\lib\\site-packages\\ipykernel_launcher.py:10: SettingWithCopyWarning:\n",
      "\n",
      "\n",
      "A value is trying to be set on a copy of a slice from a DataFrame.\n",
      "Try using .loc[row_indexer,col_indexer] = value instead\n",
      "\n",
      "See the caveats in the documentation: https://pandas.pydata.org/pandas-docs/stable/user_guide/indexing.html#returning-a-view-versus-a-copy\n",
      "\n"
     ]
    },
    {
     "data": {
      "text/plain": [
       "5.32047266367869"
      ]
     },
     "execution_count": 260,
     "metadata": {},
     "output_type": "execute_result"
    }
   ],
   "source": [
    "\n",
    "bonus_NJ_0=(df_NJ_0['wage_4.25$'].sum() / len(df_NJ_0['wage_4.25$']))*100\n",
    "\n",
    "se_425_NJ_0= scipy.stats.sem(df_NJ_0['wage_4.25$'])*100\n",
    "\n",
    "df_PA_0['wage_4.25$']= df_PA_0['wage_st']==4.25\n",
    "wage_425_PA_0=(df_PA_0['wage_4.25$'].sum() / len(df_PA_0['wage_4.25$']))*100\n",
    "\n",
    "se_425_PA_0= scipy.stats.sem(df_PA_0['wage_4.25$'])*100\n",
    "\n",
    "test_wage_425 = scipy.stats.ttest_ind(df_NJ_0['wage_4.25$'],df_PA_0['wage_4.25$'])[0]\n"
   ]
  },
  {
   "cell_type": "code",
   "execution_count": 255,
   "metadata": {},
   "outputs": [
    {
     "data": {
      "text/plain": [
       "30.513595166163142"
      ]
     },
     "execution_count": 255,
     "metadata": {},
     "output_type": "execute_result"
    }
   ],
   "source": [
    "wage_425_NJ_0"
   ]
  },
  {
   "cell_type": "code",
   "execution_count": 128,
   "metadata": {},
   "outputs": [
    {
     "data": {
      "text/plain": [
       "array([[ 4.5 , 35.  ],\n",
       "       [ 4.75, 16.  ],\n",
       "       [ 4.25, 15.5 ],\n",
       "       [ 4.75, 19.  ],\n",
       "       [ 4.5 , 24.  ],\n",
       "       [ 5.  ,  5.  ],\n",
       "       [ 4.8 ,   nan],\n",
       "       [ 4.37, 36.  ],\n",
       "       [ 4.25, 29.  ],\n",
       "       [ 4.25, 29.  ],\n",
       "       [ 4.37, 21.25],\n",
       "       [ 4.5 , 15.5 ],\n",
       "       [ 5.12, 16.  ],\n",
       "       [ 4.6 , 19.5 ],\n",
       "       [ 4.5 , 21.  ],\n",
       "       [ 4.37, 14.  ],\n",
       "       [ 4.25, 30.5 ],\n",
       "       [ 4.25, 23.5 ],\n",
       "       [ 4.45, 14.  ],\n",
       "       [ 4.35, 14.5 ],\n",
       "       [ 4.5 , 15.5 ],\n",
       "       [ 4.75, 26.5 ],\n",
       "       [ 5.56, 41.5 ],\n",
       "       [ 5.  , 13.  ],\n",
       "       [ 4.5 ,  8.  ],\n",
       "       [ 4.5 ,  5.5 ],\n",
       "       [ 5.  , 10.  ],\n",
       "       [ 5.25, 15.  ],\n",
       "       [ 4.5 , 23.25],\n",
       "       [ 5.  , 26.  ],\n",
       "       [ 4.95, 15.5 ],\n",
       "       [ 4.5 , 32.25],\n",
       "       [ 5.5 , 18.  ],\n",
       "       [ 4.25, 30.  ],\n",
       "       [ 4.25,   nan],\n",
       "       [ 4.5 , 30.5 ],\n",
       "       [ 4.8 , 14.  ],\n",
       "       [ 4.25, 27.  ],\n",
       "       [ 4.5 , 18.5 ],\n",
       "       [ 4.25, 38.  ],\n",
       "       [ 4.25, 16.5 ],\n",
       "       [ 4.5 , 50.  ],\n",
       "       [ 4.75, 20.5 ],\n",
       "       [ 4.25,  6.5 ],\n",
       "       [ 4.25, 13.5 ],\n",
       "       [ 4.25, 28.  ],\n",
       "       [ 5.  , 35.  ],\n",
       "       [ 5.  , 21.  ],\n",
       "       [ 4.5 , 21.5 ],\n",
       "       [ 4.25,   nan],\n",
       "       [ 5.  , 34.5 ],\n",
       "       [ 5.  , 18.25],\n",
       "       [ 5.  , 24.5 ],\n",
       "       [ 4.5 , 24.  ],\n",
       "       [ 5.5 , 20.  ],\n",
       "       [ 4.25, 20.5 ],\n",
       "       [ 4.5 ,   nan],\n",
       "       [ 4.25, 23.5 ],\n",
       "       [ 5.  , 16.  ],\n",
       "       [ 4.25, 23.  ],\n",
       "       [ 4.25, 17.  ],\n",
       "       [ 4.25, 20.5 ],\n",
       "       [ 5.  , 17.5 ],\n",
       "       [ 4.25, 23.5 ],\n",
       "       [ 4.25,  9.5 ],\n",
       "       [ 4.25, 10.  ],\n",
       "       [ 4.25, 14.  ],\n",
       "       [ 4.75, 85.  ],\n",
       "       [ 4.75, 15.  ],\n",
       "       [ 4.4 , 21.5 ],\n",
       "       [ 5.  , 20.5 ],\n",
       "       [ 4.62, 53.  ],\n",
       "       [ 4.25, 24.  ],\n",
       "       [ 4.25, 20.5 ],\n",
       "       [ 4.25, 14.5 ],\n",
       "       [ 4.25, 25.  ],\n",
       "       [ 4.25, 27.  ],\n",
       "       [ 5.  , 20.  ],\n",
       "       [  nan, 15.  ],\n",
       "       [ 4.75, 22.5 ],\n",
       "       [ 4.75, 36.5 ],\n",
       "       [ 4.25, 17.25],\n",
       "       [ 4.25, 21.5 ],\n",
       "       [ 4.75, 24.5 ],\n",
       "       [ 4.5 , 19.  ],\n",
       "       [ 4.25, 25.  ],\n",
       "       [  nan, 15.  ],\n",
       "       [ 4.25, 16.  ],\n",
       "       [ 4.5 , 19.  ],\n",
       "       [ 5.  , 12.25],\n",
       "       [ 5.25, 33.  ],\n",
       "       [ 4.5 , 22.75],\n",
       "       [ 5.5 , 31.5 ],\n",
       "       [ 4.5 , 35.  ],\n",
       "       [ 4.75, 16.  ],\n",
       "       [ 4.62, 21.  ],\n",
       "       [  nan, 24.  ],\n",
       "       [ 4.25, 26.75],\n",
       "       [ 4.25, 30.5 ],\n",
       "       [  nan, 19.25],\n",
       "       [ 5.5 ,   nan],\n",
       "       [ 4.5 , 23.  ],\n",
       "       [ 4.75, 21.5 ],\n",
       "       [ 4.25, 36.5 ],\n",
       "       [ 5.37, 18.  ],\n",
       "       [ 5.05, 28.  ],\n",
       "       [ 5.  , 16.5 ],\n",
       "       [ 4.8 , 23.  ],\n",
       "       [ 5.12, 14.75],\n",
       "       [ 5.25, 23.5 ],\n",
       "       [ 4.5 , 14.  ],\n",
       "       [ 4.67, 17.25],\n",
       "       [ 5.  , 10.  ],\n",
       "       [ 5.12, 46.5 ],\n",
       "       [  nan, 21.5 ],\n",
       "       [ 4.87, 18.5 ],\n",
       "       [ 5.  , 15.5 ],\n",
       "       [ 4.5 ,  8.5 ],\n",
       "       [ 4.5 , 14.  ],\n",
       "       [ 5.  , 24.5 ],\n",
       "       [ 4.75, 23.  ],\n",
       "       [ 5.  , 24.  ],\n",
       "       [ 5.  , 23.  ],\n",
       "       [ 5.  , 28.  ],\n",
       "       [ 4.75, 29.  ],\n",
       "       [ 4.25, 19.  ],\n",
       "       [ 5.  , 32.5 ],\n",
       "       [ 5.  , 23.  ],\n",
       "       [ 4.25, 21.  ],\n",
       "       [ 4.75, 17.  ],\n",
       "       [ 4.85, 36.  ],\n",
       "       [ 4.75, 25.  ],\n",
       "       [ 4.62, 29.5 ],\n",
       "       [ 4.25, 22.  ],\n",
       "       [ 4.25, 11.  ],\n",
       "       [ 4.5 , 13.5 ],\n",
       "       [  nan,  9.5 ],\n",
       "       [ 4.5 , 13.5 ],\n",
       "       [ 4.62, 18.  ],\n",
       "       [ 4.5 ,  9.5 ],\n",
       "       [ 4.75, 24.  ],\n",
       "       [ 5.62, 17.  ],\n",
       "       [ 4.75, 14.5 ],\n",
       "       [ 5.  , 30.  ],\n",
       "       [  nan, 44.  ],\n",
       "       [ 4.87, 29.  ],\n",
       "       [ 4.5 , 10.5 ],\n",
       "       [ 4.25, 18.  ],\n",
       "       [ 5.  , 21.5 ],\n",
       "       [ 5.  , 32.  ],\n",
       "       [ 4.25,   nan],\n",
       "       [ 4.35,  9.  ],\n",
       "       [ 4.25, 33.  ],\n",
       "       [ 4.5 , 19.5 ],\n",
       "       [ 4.25, 41.  ],\n",
       "       [ 4.25, 17.  ],\n",
       "       [ 4.25, 18.25],\n",
       "       [ 4.75, 17.  ],\n",
       "       [ 4.62, 32.  ],\n",
       "       [ 4.25, 26.  ],\n",
       "       [ 4.5 , 11.5 ],\n",
       "       [ 4.5 , 21.  ],\n",
       "       [ 4.5 , 22.75],\n",
       "       [ 4.55, 18.5 ],\n",
       "       [ 4.62, 20.  ],\n",
       "       [ 4.5 , 18.  ],\n",
       "       [ 4.25, 10.5 ],\n",
       "       [ 4.25, 10.5 ],\n",
       "       [ 4.35, 11.  ],\n",
       "       [ 4.25, 10.5 ],\n",
       "       [ 4.25, 12.5 ],\n",
       "       [ 4.6 , 18.  ],\n",
       "       [ 4.25, 17.  ],\n",
       "       [ 4.75, 15.  ],\n",
       "       [ 4.75, 19.5 ],\n",
       "       [ 4.25, 13.  ],\n",
       "       [ 4.5 , 20.25],\n",
       "       [ 4.5 , 26.  ],\n",
       "       [ 4.25, 15.5 ],\n",
       "       [  nan,   nan],\n",
       "       [ 4.75, 24.  ],\n",
       "       [ 4.65, 25.5 ],\n",
       "       [ 5.  ,  8.  ],\n",
       "       [ 4.25, 14.5 ],\n",
       "       [  nan, 21.  ],\n",
       "       [ 4.25, 21.5 ],\n",
       "       [ 4.75, 14.  ],\n",
       "       [ 4.25, 20.  ],\n",
       "       [ 5.1 , 35.5 ],\n",
       "       [ 5.  , 31.5 ],\n",
       "       [ 5.25, 33.  ],\n",
       "       [ 4.5 , 22.5 ],\n",
       "       [ 4.25, 30.  ],\n",
       "       [ 5.5 , 22.  ],\n",
       "       [ 4.5 , 24.  ],\n",
       "       [ 4.75, 22.  ],\n",
       "       [ 4.37, 13.  ],\n",
       "       [ 4.5 ,  5.  ],\n",
       "       [ 4.87, 13.5 ],\n",
       "       [  nan, 28.  ],\n",
       "       [  nan, 10.  ],\n",
       "       [ 4.25, 28.  ],\n",
       "       [ 4.25, 18.  ],\n",
       "       [ 5.  , 23.  ],\n",
       "       [ 4.25, 24.  ],\n",
       "       [ 4.25, 16.5 ],\n",
       "       [ 4.25,  7.  ],\n",
       "       [ 4.25, 11.  ],\n",
       "       [ 4.25, 19.5 ],\n",
       "       [ 5.  , 23.  ],\n",
       "       [ 4.45, 10.  ],\n",
       "       [ 5.  ,  8.5 ],\n",
       "       [ 5.05, 12.5 ],\n",
       "       [ 4.62, 13.  ],\n",
       "       [ 5.5 ,  9.5 ],\n",
       "       [ 4.25, 10.  ],\n",
       "       [ 5.  , 13.  ],\n",
       "       [ 4.25, 12.5 ],\n",
       "       [ 4.25,  8.  ],\n",
       "       [ 4.25, 12.  ],\n",
       "       [ 4.5 , 20.5 ],\n",
       "       [ 4.75, 18.5 ],\n",
       "       [ 4.75, 11.5 ],\n",
       "       [ 4.5 , 15.  ],\n",
       "       [ 4.75, 13.  ],\n",
       "       [ 4.25, 10.  ],\n",
       "       [ 4.75, 17.  ],\n",
       "       [ 4.55, 17.  ],\n",
       "       [ 4.8 , 20.5 ],\n",
       "       [  nan, 20.5 ],\n",
       "       [ 4.75, 15.5 ],\n",
       "       [ 5.3 , 17.  ],\n",
       "       [ 4.25, 19.5 ],\n",
       "       [ 5.  ,  9.  ],\n",
       "       [ 5.  , 19.  ],\n",
       "       [ 4.35, 30.5 ],\n",
       "       [ 4.5 , 23.  ],\n",
       "       [ 4.39, 13.  ],\n",
       "       [  nan, 25.5 ],\n",
       "       [ 4.25, 30.25],\n",
       "       [ 4.25, 18.  ],\n",
       "       [  nan, 19.  ],\n",
       "       [ 4.25, 10.  ],\n",
       "       [ 4.5 , 19.5 ],\n",
       "       [ 4.62, 17.  ],\n",
       "       [  nan, 16.5 ],\n",
       "       [ 4.62, 25.5 ],\n",
       "       [ 4.25,  6.  ],\n",
       "       [ 4.75, 11.5 ],\n",
       "       [ 4.62,  8.5 ],\n",
       "       [ 5.  , 11.5 ],\n",
       "       [ 5.  , 13.  ],\n",
       "       [ 4.75, 18.5 ],\n",
       "       [ 5.25, 48.  ],\n",
       "       [ 4.5 , 15.5 ],\n",
       "       [ 5.15, 45.5 ],\n",
       "       [ 5.42, 15.  ],\n",
       "       [ 4.25, 14.25],\n",
       "       [ 5.  , 18.  ],\n",
       "       [  nan, 17.  ],\n",
       "       [ 4.5 , 38.  ],\n",
       "       [ 4.87, 24.75],\n",
       "       [ 4.25, 23.  ],\n",
       "       [ 4.25, 24.  ],\n",
       "       [ 4.62,  7.5 ],\n",
       "       [ 4.75, 15.  ],\n",
       "       [ 4.25,  9.25],\n",
       "       [ 4.25, 11.25],\n",
       "       [ 5.  , 21.  ],\n",
       "       [ 4.75, 16.5 ],\n",
       "       [ 4.25, 18.75],\n",
       "       [ 4.75, 13.5 ],\n",
       "       [ 4.37, 21.75],\n",
       "       [ 5.06, 20.5 ],\n",
       "       [ 4.87, 13.5 ],\n",
       "       [ 5.05, 20.5 ],\n",
       "       [ 5.  , 17.5 ],\n",
       "       [ 4.25, 15.  ],\n",
       "       [ 4.25, 17.5 ],\n",
       "       [ 4.25, 17.5 ],\n",
       "       [ 4.25,   nan],\n",
       "       [ 4.25, 15.5 ],\n",
       "       [ 4.25, 16.5 ],\n",
       "       [ 4.5 , 13.5 ],\n",
       "       [ 4.25, 13.  ],\n",
       "       [ 4.35, 11.5 ],\n",
       "       [ 4.85, 29.05],\n",
       "       [ 5.  , 27.5 ],\n",
       "       [  nan, 27.5 ],\n",
       "       [ 5.  , 24.  ],\n",
       "       [ 5.25, 34.  ],\n",
       "       [ 4.5 , 13.  ],\n",
       "       [ 4.25, 18.  ],\n",
       "       [ 5.  , 18.  ],\n",
       "       [ 4.62, 30.  ],\n",
       "       [ 4.5 , 20.5 ],\n",
       "       [ 5.  , 24.  ],\n",
       "       [ 4.5 , 10.  ],\n",
       "       [ 4.65,   nan],\n",
       "       [ 4.25, 26.  ],\n",
       "       [ 4.25, 12.5 ],\n",
       "       [ 4.25, 19.5 ],\n",
       "       [ 4.62, 12.  ],\n",
       "       [ 4.87, 36.  ],\n",
       "       [ 4.25, 21.  ],\n",
       "       [ 4.75, 24.5 ],\n",
       "       [ 4.87, 20.  ],\n",
       "       [ 4.5 , 26.5 ],\n",
       "       [ 4.25, 15.  ],\n",
       "       [ 4.75, 19.  ],\n",
       "       [ 5.05,   nan],\n",
       "       [ 4.32, 17.5 ],\n",
       "       [ 5.  , 33.5 ],\n",
       "       [ 5.75, 12.  ],\n",
       "       [ 5.  , 35.  ],\n",
       "       [ 4.25, 20.5 ],\n",
       "       [ 4.5 , 21.  ],\n",
       "       [ 4.5 , 10.5 ],\n",
       "       [ 4.25, 23.  ],\n",
       "       [ 4.25, 23.  ],\n",
       "       [ 4.25, 29.  ],\n",
       "       [ 4.25, 21.  ],\n",
       "       [ 4.25, 41.5 ],\n",
       "       [ 4.25, 12.  ],\n",
       "       [ 4.62, 33.  ],\n",
       "       [ 4.75,  6.5 ],\n",
       "       [ 4.95,  9.  ],\n",
       "       [ 4.75,  9.75],\n",
       "       [ 4.25, 24.5 ],\n",
       "       [ 4.75, 14.  ],\n",
       "       [ 4.62, 19.5 ]], dtype=float32)"
      ]
     },
     "execution_count": 128,
     "metadata": {},
     "output_type": "execute_result"
    }
   ],
   "source": [
    "#variables=['FTE','pct_FTE','wage_st','price_full_meal','hoursopen']\n",
    "a=np.array(df_NJ_0[['wage_st','FTE']])\n",
    "#a = a[~np.isnan(a)]\n",
    "#scipy.stats.sem(a)\n",
    "a"
   ]
  },
  {
   "cell_type": "code",
   "execution_count": 166,
   "metadata": {},
   "outputs": [
    {
     "ename": "ValueError",
     "evalue": "dictionary update sequence element #0 has length 321; 2 is required",
     "output_type": "error",
     "traceback": [
      "\u001b[1;31m---------------------------------------------------------------------------\u001b[0m",
      "\u001b[1;31mValueError\u001b[0m                                Traceback (most recent call last)",
      "\u001b[1;32m<ipython-input-166-f95198a5a04b>\u001b[0m in \u001b[0;36m<module>\u001b[1;34m()\u001b[0m\n\u001b[0;32m     10\u001b[0m \u001b[0me\u001b[0m \u001b[1;33m=\u001b[0m \u001b[0me\u001b[0m\u001b[1;33m[\u001b[0m\u001b[1;33m~\u001b[0m\u001b[0mnp\u001b[0m\u001b[1;33m.\u001b[0m\u001b[0misnan\u001b[0m\u001b[1;33m(\u001b[0m\u001b[0me\u001b[0m\u001b[1;33m)\u001b[0m\u001b[1;33m]\u001b[0m\u001b[1;33m\u001b[0m\u001b[0m\n\u001b[0;32m     11\u001b[0m \u001b[1;31m#scipy.stats.sem([a,b,c,d,e])\u001b[0m\u001b[1;33m\u001b[0m\u001b[1;33m\u001b[0m\u001b[0m\n\u001b[1;32m---> 12\u001b[1;33m \u001b[0mdict\u001b[0m\u001b[1;33m(\u001b[0m\u001b[1;33m[\u001b[0m\u001b[0ma\u001b[0m\u001b[1;33m,\u001b[0m\u001b[0mb\u001b[0m\u001b[1;33m,\u001b[0m\u001b[0mc\u001b[0m\u001b[1;33m,\u001b[0m\u001b[0md\u001b[0m\u001b[1;33m,\u001b[0m\u001b[0me\u001b[0m\u001b[1;33m]\u001b[0m\u001b[1;33m)\u001b[0m\u001b[1;33m\u001b[0m\u001b[0m\n\u001b[0m",
      "\u001b[1;31mValueError\u001b[0m: dictionary update sequence element #0 has length 321; 2 is required"
     ]
    }
   ],
   "source": [
    "a=np.array(df_NJ_0['FTE'])\n",
    "a = a[~np.isnan(a)]\n",
    "b=np.array(df_NJ_0['pct_FTE'])\n",
    "b = b[~np.isnan(b)]\n",
    "c=np.array(df_NJ_0['wage_st'])\n",
    "c = c[~np.isnan(c)]\n",
    "d=np.array(df_NJ_0['price_full_meal'])\n",
    "d = d[~np.isnan(d)]\n",
    "e=np.array(df_NJ_0['hoursopen'])\n",
    "e = e[~np.isnan(e)]\n",
    "#scipy.stats.sem([a,b,c,d,e])\n",
    "dict([a,b,c,d,e])"
   ]
  },
  {
   "cell_type": "code",
   "execution_count": 186,
   "metadata": {},
   "outputs": [
    {
     "data": {
      "text/html": [
       "<div>\n",
       "<style scoped>\n",
       "    .dataframe tbody tr th:only-of-type {\n",
       "        vertical-align: middle;\n",
       "    }\n",
       "\n",
       "    .dataframe tbody tr th {\n",
       "        vertical-align: top;\n",
       "    }\n",
       "\n",
       "    .dataframe thead th {\n",
       "        text-align: right;\n",
       "    }\n",
       "</style>\n",
       "<table border=\"1\" class=\"dataframe\">\n",
       "  <thead>\n",
       "    <tr style=\"text-align: right;\">\n",
       "      <th></th>\n",
       "      <th>se</th>\n",
       "    </tr>\n",
       "  </thead>\n",
       "  <tbody>\n",
       "  </tbody>\n",
       "</table>\n",
       "</div>"
      ],
      "text/plain": [
       "Empty DataFrame\n",
       "Columns: [se]\n",
       "Index: []"
      ]
     },
     "execution_count": 186,
     "metadata": {},
     "output_type": "execute_result"
    }
   ],
   "source": [
    "NJ= pd.DataFrame()\n",
    "NJ['se']=[]\n",
    "variables=['FTE','pct_FTE','wage_st','price_full_meal','hoursopen']\n",
    "for i in variables:\n",
    "    NJ['se'].loc[variables.index(i)]=scipy.stats.sem(np.array(df_NJ_0[i]))\n",
    "\n",
    "NJ\n",
    "NJ_before = round(df.loc[(df['state']==1) & (df['time']!=1),'FTE'].mean(),2)"
   ]
  },
  {
   "cell_type": "code",
   "execution_count": 161,
   "metadata": {},
   "outputs": [
    {
     "ename": "TypeError",
     "evalue": "list indices must be integers or slices, not str",
     "output_type": "error",
     "traceback": [
      "\u001b[1;31m---------------------------------------------------------------------------\u001b[0m",
      "\u001b[1;31mTypeError\u001b[0m                                 Traceback (most recent call last)",
      "\u001b[1;32m<ipython-input-161-bce15c1e84e5>\u001b[0m in \u001b[0;36m<module>\u001b[1;34m()\u001b[0m\n\u001b[0;32m      1\u001b[0m \u001b[0mvariables\u001b[0m\u001b[1;33m=\u001b[0m\u001b[1;33m[\u001b[0m\u001b[1;34m'FTE'\u001b[0m\u001b[1;33m,\u001b[0m\u001b[1;34m'pct_FTE'\u001b[0m\u001b[1;33m,\u001b[0m\u001b[1;34m'wage_st'\u001b[0m\u001b[1;33m,\u001b[0m\u001b[1;34m'price_full_meal'\u001b[0m\u001b[1;33m,\u001b[0m\u001b[1;34m'hoursopen'\u001b[0m\u001b[1;33m]\u001b[0m\u001b[1;33m\u001b[0m\u001b[0m\n\u001b[0;32m      2\u001b[0m \u001b[1;31m#dict(variables)\u001b[0m\u001b[1;33m\u001b[0m\u001b[1;33m\u001b[0m\u001b[0m\n\u001b[1;32m----> 3\u001b[1;33m \u001b[0mvariables\u001b[0m\u001b[1;33m[\u001b[0m\u001b[1;34m'pct_FTE'\u001b[0m\u001b[1;33m]\u001b[0m\u001b[1;33m\u001b[0m\u001b[0m\n\u001b[0m",
      "\u001b[1;31mTypeError\u001b[0m: list indices must be integers or slices, not str"
     ]
    }
   ],
   "source": [
    "variables=['FTE','pct_FTE','wage_st','price_full_meal','hoursopen']\n",
    "#dict(variables)\n",
    "variables['pct_FTE']"
   ]
  },
  {
   "cell_type": "code",
   "execution_count": 188,
   "metadata": {},
   "outputs": [
    {
     "data": {
      "text/plain": [
       "[0.5082607155080399,\n",
       " 1.3256101057472447,\n",
       " 0.01954569233795943,\n",
       " 0.03654412054109167,\n",
       " 0.1527704196128995]"
      ]
     },
     "execution_count": 188,
     "metadata": {},
     "output_type": "execute_result"
    }
   ],
   "source": [
    "f=[]\n",
    "variables=['FTE','pct_FTE','wage_st','price_full_meal','hoursopen']\n",
    "a=np.array(df_NJ_0['FTE'])\n",
    "a = a[~np.isnan(a)]\n",
    "b=np.array(df_NJ_0['pct_FTE'])\n",
    "b = b[~np.isnan(b)]\n",
    "c=np.array(df_NJ_0['wage_st'])\n",
    "c = c[~np.isnan(c)]\n",
    "d=np.array(df_NJ_0['price_full_meal'])\n",
    "d = d[~np.isnan(d)]\n",
    "e=np.array(df_NJ_0['hoursopen'])\n",
    "e = e[~np.isnan(e)]\n",
    "x=[a,b,c,d,e]\n",
    "for x in x:\n",
    "    f.append(scipy.stats.sem(x))\n",
    "f\n",
    "#scipy.stats.ttest_ind(a,b)"
   ]
  }
 ],
 "metadata": {
  "kernelspec": {
   "display_name": "Python 3",
   "language": "python",
   "name": "python3"
  },
  "language_info": {
   "codemirror_mode": {
    "name": "ipython",
    "version": 3
   },
   "file_extension": ".py",
   "mimetype": "text/x-python",
   "name": "python",
   "nbconvert_exporter": "python",
   "pygments_lexer": "ipython3",
   "version": "3.6.5"
  },
  "toc": {
   "base_numbering": 1,
   "nav_menu": {},
   "number_sections": false,
   "sideBar": true,
   "skip_h1_title": false,
   "title_cell": "Table of Contents",
   "title_sidebar": "Contents",
   "toc_cell": true,
   "toc_position": {
    "height": "622.641px",
    "left": "691px",
    "top": "110px",
    "width": "277.4px"
   },
   "toc_section_display": true,
   "toc_window_display": true
  },
  "varInspector": {
   "cols": {
    "lenName": 16,
    "lenType": 16,
    "lenVar": 40
   },
   "kernels_config": {
    "python": {
     "delete_cmd_postfix": "",
     "delete_cmd_prefix": "del ",
     "library": "var_list.py",
     "varRefreshCmd": "print(var_dic_list())"
    },
    "r": {
     "delete_cmd_postfix": ") ",
     "delete_cmd_prefix": "rm(",
     "library": "var_list.r",
     "varRefreshCmd": "cat(var_dic_list()) "
    }
   },
   "oldHeight": 189.73845400000002,
   "position": {
    "height": "478.719px",
    "left": "987.578px",
    "right": "20px",
    "top": "283.984px",
    "width": "717.172px"
   },
   "types_to_exclude": [
    "module",
    "function",
    "builtin_function_or_method",
    "instance",
    "_Feature"
   ],
   "varInspector_section_display": "block",
   "window_display": false
  }
 },
 "nbformat": 4,
 "nbformat_minor": 2
}
